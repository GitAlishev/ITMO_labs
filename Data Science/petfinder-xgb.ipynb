{
 "cells": [
  {
   "cell_type": "markdown",
   "metadata": {},
   "source": [
    "* [The Pet-Finder Competition on Kaggle](https://www.kaggle.com/c/petfinder-adoption-prediction)\n",
    "* [My notebook location](https://www.kaggle.com/reginashay/petfinder-xgb)"
   ]
  },
  {
   "cell_type": "code",
   "execution_count": 1,
   "metadata": {
    "_cell_guid": "b1076dfc-b9ad-4769-8c92-a6c4dae69d19",
    "_uuid": "8f2839f25d086af736a60e9eeb907d3b93b6e0e5"
   },
   "outputs": [],
   "source": [
    "import numpy as np\n",
    "import pandas as pd\n",
    "\n",
    "import matplotlib.pyplot as plt\n",
    "import seaborn as sns\n",
    "\n",
    "import re  # regular expressions"
   ]
  },
  {
   "cell_type": "markdown",
   "metadata": {
    "_uuid": "dcbf9d643942f066f51f06c94a4b2f8331a38576"
   },
   "source": [
    "# Main information"
   ]
  },
  {
   "cell_type": "markdown",
   "metadata": {
    "_uuid": "1e91ccbf87c049dd7fd1c0cd55e5e49da49e99e0"
   },
   "source": [
    "In this competition we predict the speed at which a pet is adopted, based on the pet’s listing on PetFinder. Sometimes a profile represents a group of pets. In this case, the speed of adoption is determined by the speed at which all of the pets are adopted.\n",
    "\n",
    "**File descriptions**\n",
    "* train.csv - Tabular/text data for the training set\n",
    "* test.csv - Tabular/text data for the test set\n",
    "* sample_submission.csv - A sample submission file in the correct format\n",
    "* breed_labels.csv - Contains Type, and BreedName for each BreedID. Type 1 is dog, 2 is cat. \n",
    "* color_labels.csv - Contains ColorName for each ColorID\n",
    "* state_labels.csv - Contains StateName for each StateID\n",
    "\n",
    "**Data Fields**\n",
    "* PetID - Unique hash ID of pet profile\n",
    "* AdoptionSpeed - Categorical speed of adoption. Lower is faster. This is the value to predict. See below section for more info.\n",
    "* Type - Type of animal (1 = Dog, 2 = Cat)\n",
    "* Name - Name of pet (Empty if not named)\n",
    "* Age - Age of pet when listed, in months\n",
    "* Breed1 - Primary breed of pet (Refer to BreedLabels dictionary)\n",
    "* Breed2 - Secondary breed of pet, if pet is of mixed breed (Refer to BreedLabels dictionary)\n",
    "* Gender - Gender of pet (1 = Male, 2 = Female, 3 = Mixed, if profile represents group of pets)\n",
    "* Color1 - Color 1 of pet (Refer to ColorLabels dictionary)\n",
    "* Color2 - Color 2 of pet (Refer to ColorLabels dictionary)\n",
    "* Color3 - Color 3 of pet (Refer to ColorLabels dictionary)\n",
    "* MaturitySize - Size at maturity (1 = Small, 2 = Medium, 3 = Large, 4 = Extra Large, 0 = Not Specified)\n",
    "* FurLength - Fur length (1 = Short, 2 = Medium, 3 = Long, 0 = Not Specified)\n",
    "* Vaccinated - Pet has been vaccinated (1 = Yes, 2 = No, 3 = Not Sure)\n",
    "* Dewormed - Pet has been dewormed (1 = Yes, 2 = No, 3 = Not Sure)\n",
    "* Sterilized - Pet has been spayed / neutered (1 = Yes, 2 = No, 3 = Not Sure)\n",
    "* Health - Health Condition (1 = Healthy, 2 = Minor Injury, 3 = Serious Injury, 0 = Not Specified)\n",
    "* Quantity - Number of pets represented in profile\n",
    "* Fee - Adoption fee (0 = Free)\n",
    "* State - State location in Malaysia (Refer to StateLabels dictionary)\n",
    "* RescuerID - Unique hash ID of rescuer\n",
    "* VideoAmt - Total uploaded videos for this pet\n",
    "* PhotoAmt - Total uploaded photos for this pet\n",
    "* Description - Profile write-up for this pet. The primary language used is English, with some in Malay or Chinese.\n",
    "\n",
    "**AdoptionSpeed**\n",
    "\n",
    "Contestants are required to predict this value. The value is determined by how quickly, if at all, a pet is adopted. The values are determined in the following way: \n",
    "* 0 - Pet was adopted on the same day as it was listed. \n",
    "* 1 - Pet was adopted between 1 and 7 days (1st week) after being listed. \n",
    "* 2 - Pet was adopted between 8 and 30 days (1st month) after being listed. \n",
    "* 3 - Pet was adopted between 31 and 90 days (2nd & 3rd month) after being listed. \n",
    "* 4 - No adoption after 100 days of being listed. (There are no pets in this dataset that waited between 90 and 100 days). "
   ]
  },
  {
   "cell_type": "markdown",
   "metadata": {
    "_uuid": "54df69344f0ea4c2211bad8042ba1707f6881f4e"
   },
   "source": [
    "# Import fast.ai library\n",
    "https://course.fast.ai\n",
    "\n",
    "Code in the following cell is taken from: https://github.com/fastai/fastai/blob/master/old/fastai/structured.py"
   ]
  },
  {
   "cell_type": "code",
   "execution_count": 2,
   "metadata": {
    "_uuid": "af2269330056e85a158e5479277c06843313ff20"
   },
   "outputs": [],
   "source": [
    "from pandas.api.types import is_string_dtype, is_numeric_dtype\n",
    "\n",
    "\n",
    "def train_cats(df):\n",
    "    \"\"\"\n",
    "    Change any columns of strings in a pandas' dataframe to a column of\n",
    "    categorical values. This applies the changes inplace.\n",
    "    \"\"\"\n",
    "    for n,c in df.items():\n",
    "        if is_string_dtype(c): df[n] = c.astype('category').cat.as_ordered()\n",
    "\n",
    "\n",
    "def fix_missing(df, col, name, na_dict):\n",
    "    \"\"\"\n",
    "    Fill missing data in a column of df with the median, and add a {name}_na column\n",
    "    which specifies if the data was missing.\n",
    "    \"\"\"\n",
    "    if is_numeric_dtype(col):\n",
    "        if pd.isnull(col).sum() or (name in na_dict):\n",
    "            df[name+'_na'] = pd.isnull(col)\n",
    "            filler = na_dict[name] if name in na_dict else col.median()\n",
    "            df[name] = col.fillna(filler)\n",
    "            na_dict[name] = filler\n",
    "    return na_dict\n",
    "\n",
    "\n",
    "def numericalize(df, col, name, max_n_cat):\n",
    "    \"\"\"\n",
    "    Changes the column col from a categorical type to it's integer codes.\n",
    "    \"\"\"\n",
    "    if not is_numeric_dtype(col) and ( max_n_cat is None or len(col.cat.categories)>max_n_cat):\n",
    "        df[name] = col.cat.codes+1\n",
    "\n",
    "\n",
    "def proc_df(df, y_fld=None, skip_flds=None, ignore_flds=None, do_scale=False, na_dict=None,\n",
    "            preproc_fn=None, max_n_cat=None, subset=None, mapper=None):\n",
    "    \"\"\"\n",
    "    Takes a data frame df and splits off the response variable, and\n",
    "    changes the df into an entirely numeric dataframe. For each column of df \n",
    "    which is not in skip_flds nor in ignore_flds, na values are replaced by the\n",
    "    median value of the column.\n",
    "    \"\"\"\n",
    "    if not ignore_flds: ignore_flds=[]\n",
    "    if not skip_flds: skip_flds=[]\n",
    "    if subset: df = get_sample(df,subset)\n",
    "    else: df = df.copy()\n",
    "    ignored_flds = df.loc[:, ignore_flds]\n",
    "    df.drop(ignore_flds, axis=1, inplace=True)\n",
    "    if preproc_fn: preproc_fn(df)\n",
    "    if y_fld is None: y = None\n",
    "    else:\n",
    "        if not is_numeric_dtype(df[y_fld]): df[y_fld] = df[y_fld].cat.codes\n",
    "        y = df[y_fld].values\n",
    "        skip_flds += [y_fld]\n",
    "    df.drop(skip_flds, axis=1, inplace=True)\n",
    "\n",
    "    if na_dict is None: na_dict = {}\n",
    "    else: na_dict = na_dict.copy()\n",
    "    na_dict_initial = na_dict.copy()\n",
    "    for n,c in df.items(): na_dict = fix_missing(df, c, n, na_dict)\n",
    "    if len(na_dict_initial.keys()) > 0:\n",
    "        df.drop([a + '_na' for a in list(set(na_dict.keys()) - set(na_dict_initial.keys()))], axis=1, inplace=True)\n",
    "    if do_scale: mapper = scale_vars(df, mapper)\n",
    "    for n,c in df.items(): numericalize(df, c, n, max_n_cat)\n",
    "    df = pd.get_dummies(df, dummy_na=True)\n",
    "    df = pd.concat([ignored_flds, df], axis=1)\n",
    "    res = [df, y, na_dict]\n",
    "    if do_scale: res = res + [mapper]\n",
    "    return res"
   ]
  },
  {
   "cell_type": "markdown",
   "metadata": {
    "_uuid": "fa47ca0836c349862075a02cc7f216b3a24d4481"
   },
   "source": [
    "# Data"
   ]
  },
  {
   "cell_type": "markdown",
   "metadata": {
    "_uuid": "1e5514e190ffba44ef8adeb5e3c7bbe082b7f2d9"
   },
   "source": [
    "### TRAIN set"
   ]
  },
  {
   "cell_type": "code",
   "execution_count": 3,
   "metadata": {
    "_uuid": "db086378541c04411ee486649108de167b58e4f4",
    "scrolled": true
   },
   "outputs": [
    {
     "data": {
      "text/html": [
       "<div>\n",
       "<style scoped>\n",
       "    .dataframe tbody tr th:only-of-type {\n",
       "        vertical-align: middle;\n",
       "    }\n",
       "\n",
       "    .dataframe tbody tr th {\n",
       "        vertical-align: top;\n",
       "    }\n",
       "\n",
       "    .dataframe thead th {\n",
       "        text-align: right;\n",
       "    }\n",
       "</style>\n",
       "<table border=\"1\" class=\"dataframe\">\n",
       "  <thead>\n",
       "    <tr style=\"text-align: right;\">\n",
       "      <th></th>\n",
       "      <th>Type</th>\n",
       "      <th>Age</th>\n",
       "      <th>Breed1</th>\n",
       "      <th>Breed2</th>\n",
       "      <th>Gender</th>\n",
       "      <th>Color1</th>\n",
       "      <th>Color2</th>\n",
       "      <th>Color3</th>\n",
       "      <th>MaturitySize</th>\n",
       "      <th>FurLength</th>\n",
       "      <th>Vaccinated</th>\n",
       "      <th>Dewormed</th>\n",
       "      <th>Sterilized</th>\n",
       "      <th>Health</th>\n",
       "      <th>Quantity</th>\n",
       "      <th>Fee</th>\n",
       "      <th>State</th>\n",
       "      <th>VideoAmt</th>\n",
       "      <th>PhotoAmt</th>\n",
       "      <th>AdoptionSpeed</th>\n",
       "    </tr>\n",
       "  </thead>\n",
       "  <tbody>\n",
       "    <tr>\n",
       "      <th>0</th>\n",
       "      <td>2</td>\n",
       "      <td>3</td>\n",
       "      <td>299</td>\n",
       "      <td>0</td>\n",
       "      <td>1</td>\n",
       "      <td>1</td>\n",
       "      <td>7</td>\n",
       "      <td>0</td>\n",
       "      <td>1</td>\n",
       "      <td>1</td>\n",
       "      <td>2</td>\n",
       "      <td>2</td>\n",
       "      <td>2</td>\n",
       "      <td>1</td>\n",
       "      <td>1</td>\n",
       "      <td>100</td>\n",
       "      <td>41326</td>\n",
       "      <td>0</td>\n",
       "      <td>1.0</td>\n",
       "      <td>2</td>\n",
       "    </tr>\n",
       "    <tr>\n",
       "      <th>1</th>\n",
       "      <td>2</td>\n",
       "      <td>1</td>\n",
       "      <td>265</td>\n",
       "      <td>0</td>\n",
       "      <td>1</td>\n",
       "      <td>1</td>\n",
       "      <td>2</td>\n",
       "      <td>0</td>\n",
       "      <td>2</td>\n",
       "      <td>2</td>\n",
       "      <td>3</td>\n",
       "      <td>3</td>\n",
       "      <td>3</td>\n",
       "      <td>1</td>\n",
       "      <td>1</td>\n",
       "      <td>0</td>\n",
       "      <td>41401</td>\n",
       "      <td>0</td>\n",
       "      <td>2.0</td>\n",
       "      <td>0</td>\n",
       "    </tr>\n",
       "    <tr>\n",
       "      <th>2</th>\n",
       "      <td>1</td>\n",
       "      <td>1</td>\n",
       "      <td>307</td>\n",
       "      <td>0</td>\n",
       "      <td>1</td>\n",
       "      <td>2</td>\n",
       "      <td>7</td>\n",
       "      <td>0</td>\n",
       "      <td>2</td>\n",
       "      <td>2</td>\n",
       "      <td>1</td>\n",
       "      <td>1</td>\n",
       "      <td>2</td>\n",
       "      <td>1</td>\n",
       "      <td>1</td>\n",
       "      <td>0</td>\n",
       "      <td>41326</td>\n",
       "      <td>0</td>\n",
       "      <td>7.0</td>\n",
       "      <td>3</td>\n",
       "    </tr>\n",
       "    <tr>\n",
       "      <th>3</th>\n",
       "      <td>1</td>\n",
       "      <td>4</td>\n",
       "      <td>307</td>\n",
       "      <td>0</td>\n",
       "      <td>2</td>\n",
       "      <td>1</td>\n",
       "      <td>2</td>\n",
       "      <td>0</td>\n",
       "      <td>2</td>\n",
       "      <td>1</td>\n",
       "      <td>1</td>\n",
       "      <td>1</td>\n",
       "      <td>2</td>\n",
       "      <td>1</td>\n",
       "      <td>1</td>\n",
       "      <td>150</td>\n",
       "      <td>41401</td>\n",
       "      <td>0</td>\n",
       "      <td>8.0</td>\n",
       "      <td>2</td>\n",
       "    </tr>\n",
       "    <tr>\n",
       "      <th>4</th>\n",
       "      <td>1</td>\n",
       "      <td>1</td>\n",
       "      <td>307</td>\n",
       "      <td>0</td>\n",
       "      <td>1</td>\n",
       "      <td>1</td>\n",
       "      <td>0</td>\n",
       "      <td>0</td>\n",
       "      <td>2</td>\n",
       "      <td>1</td>\n",
       "      <td>2</td>\n",
       "      <td>2</td>\n",
       "      <td>2</td>\n",
       "      <td>1</td>\n",
       "      <td>1</td>\n",
       "      <td>0</td>\n",
       "      <td>41326</td>\n",
       "      <td>0</td>\n",
       "      <td>3.0</td>\n",
       "      <td>2</td>\n",
       "    </tr>\n",
       "  </tbody>\n",
       "</table>\n",
       "</div>"
      ],
      "text/plain": [
       "   Type  Age  Breed1      ...        VideoAmt  PhotoAmt  AdoptionSpeed\n",
       "0     2    3     299      ...               0       1.0              2\n",
       "1     2    1     265      ...               0       2.0              0\n",
       "2     1    1     307      ...               0       7.0              3\n",
       "3     1    4     307      ...               0       8.0              2\n",
       "4     1    1     307      ...               0       3.0              2\n",
       "\n",
       "[5 rows x 20 columns]"
      ]
     },
     "execution_count": 3,
     "metadata": {},
     "output_type": "execute_result"
    }
   ],
   "source": [
    "train = pd.read_csv('../input/train/train.csv')\n",
    "#to_drop = ['Name', 'Description', 'RescuerID']   # optional\n",
    "#to_drop = ['Description', 'RescuerID']           # optional\n",
    "to_drop = ['PetID', 'Description', 'RescuerID']  # optional: categorical data with too many unique values\n",
    "to_drop.append('Name')                           # optional (we try to make the best out of XGB)\n",
    "train.drop(to_drop, axis=1, inplace=True)        # optional\n",
    "train.head()"
   ]
  },
  {
   "cell_type": "code",
   "execution_count": 4,
   "metadata": {
    "_uuid": "b31d3f9ad2ccf223ace55741dd6cc84556f01581"
   },
   "outputs": [
    {
     "data": {
      "text/plain": [
       "(14993, 20)"
      ]
     },
     "execution_count": 4,
     "metadata": {},
     "output_type": "execute_result"
    }
   ],
   "source": [
    "train.shape"
   ]
  },
  {
   "cell_type": "markdown",
   "metadata": {
    "_uuid": "f07948d7783e338888432860a6d728035947948d"
   },
   "source": [
    "Make changes to the Name column:\n",
    "* clean and fill nan."
   ]
  },
  {
   "cell_type": "code",
   "execution_count": 5,
   "metadata": {
    "_uuid": "eed973a3f12e98ead92a7508f9f050cb7cc06f07"
   },
   "outputs": [],
   "source": [
    "#train.isna().sum()\n",
    "#train.Description = train.Description.fillna('None')\n",
    "\n",
    "# replace nan values with a string:\n",
    "#train.Name = train.Name.fillna('NoNameSpecified')\n",
    "##train.Name = train.Name.fillna('Baby')\n",
    "\n",
    "# clean: remove all characters except for alphanumeric:\n",
    "# (NB: removed characters are replaced with a zero length string)\n",
    "##train.Name = train.Name.map(lambda name: re.sub('[^A-Za-z0-9]+', '', name))\n",
    "\n",
    "# replacing zero length strings that appeared after cleaning (above):\n",
    "##train.loc[train.Name == '', 'Name'] = 'NoNameLostIt'\n",
    "\n",
    "#train.isna().sum()"
   ]
  },
  {
   "cell_type": "code",
   "execution_count": 6,
   "metadata": {
    "_uuid": "73c2f19d96666f97347897e2bf82a8a5b83041c3"
   },
   "outputs": [],
   "source": [
    "# count unique Names:\n",
    "##train.Name.nunique()"
   ]
  },
  {
   "cell_type": "markdown",
   "metadata": {
    "_uuid": "c11d1b84a0027e543675f660cd6eed63dc418fcd"
   },
   "source": [
    "Let's see what names we have here:"
   ]
  },
  {
   "cell_type": "code",
   "execution_count": 7,
   "metadata": {
    "_uuid": "c7b5cdb599bf6e899d4ee760ab4528b97953779b",
    "scrolled": true
   },
   "outputs": [],
   "source": [
    "##train.Name.value_counts()\n",
    "\n",
    "#train[train.Name.apply(lambda x: len(str(x))) < 2].Name.value_counts()\n",
    "#train[train.Name.str.startswith('No')].Name.value_counts()"
   ]
  },
  {
   "cell_type": "markdown",
   "metadata": {
    "_uuid": "f6749d61a319ea090ce8e1575dad3208b829baeb"
   },
   "source": [
    "Some more info: current shape, column types and feature correlation"
   ]
  },
  {
   "cell_type": "code",
   "execution_count": 8,
   "metadata": {
    "_uuid": "df2300b32edd15bee8156194440481ca56425843"
   },
   "outputs": [
    {
     "data": {
      "text/plain": [
       "(14993, 20)"
      ]
     },
     "execution_count": 8,
     "metadata": {},
     "output_type": "execute_result"
    }
   ],
   "source": [
    "train.shape"
   ]
  },
  {
   "cell_type": "code",
   "execution_count": 9,
   "metadata": {
    "_uuid": "675f0cfbeeebaa53843256c8419b3b5101692486"
   },
   "outputs": [
    {
     "data": {
      "text/plain": [
       "Type               int64\n",
       "Age                int64\n",
       "Breed1             int64\n",
       "Breed2             int64\n",
       "Gender             int64\n",
       "Color1             int64\n",
       "Color2             int64\n",
       "Color3             int64\n",
       "MaturitySize       int64\n",
       "FurLength          int64\n",
       "Vaccinated         int64\n",
       "Dewormed           int64\n",
       "Sterilized         int64\n",
       "Health             int64\n",
       "Quantity           int64\n",
       "Fee                int64\n",
       "State              int64\n",
       "VideoAmt           int64\n",
       "PhotoAmt         float64\n",
       "AdoptionSpeed      int64\n",
       "dtype: object"
      ]
     },
     "execution_count": 9,
     "metadata": {},
     "output_type": "execute_result"
    }
   ],
   "source": [
    "train.dtypes"
   ]
  },
  {
   "cell_type": "code",
   "execution_count": 10,
   "metadata": {
    "_uuid": "5f028dc53c12a4226d7b07cf6f4f7653b6b9b49d",
    "scrolled": false
   },
   "outputs": [
    {
     "data": {
      "image/png": "[encoded data removed]",
      "text/plain": [
       "<Figure size 1440x1152 with 20 Axes>"
      ]
     },
     "metadata": {},
     "output_type": "display_data"
    }
   ],
   "source": [
    "#plt.figure(figsize=(20,16))\n",
    "train.hist(figsize=(20,16));  # info about features"
   ]
  },
  {
   "cell_type": "code",
   "execution_count": 11,
   "metadata": {
    "_uuid": "ba01875ccce9d98d36c827a6e39a71d35d0ab92e",
    "scrolled": false
   },
   "outputs": [
    {
     "data": {
      "image/png": "[encoded data removed]",
      "text/plain": [
       "<Figure size 720x576 with 2 Axes>"
      ]
     },
     "metadata": {},
     "output_type": "display_data"
    }
   ],
   "source": [
    "# feature correlation\n",
    "#plt.figure(figsize=(20,16))\n",
    "plt.figure(figsize=(10,8))\n",
    "corr = train.corr()\n",
    "sns.heatmap(corr, cmap='YlGnBu',  #annot=True,\n",
    "            xticklabels=corr.columns.values,\n",
    "            yticklabels=corr.columns.values);"
   ]
  },
  {
   "cell_type": "markdown",
   "metadata": {
    "_uuid": "1879dd5fa05ba07117cf44589af3a0481ed9106e"
   },
   "source": [
    "We see above that mostly, features are slightly correlated with each other, but there are some exceptions.\n",
    "\n",
    "Let's work with that below:"
   ]
  },
  {
   "cell_type": "code",
   "execution_count": 12,
   "metadata": {
    "_uuid": "614153865eab873a80d7f659c2b3b63f86a747fc"
   },
   "outputs": [
    {
     "data": {
      "text/plain": [
       "(14993, 17)"
      ]
     },
     "execution_count": 12,
     "metadata": {},
     "output_type": "execute_result"
    }
   ],
   "source": [
    "# drop features that are badly correlated with others\n",
    "#feat_drop = ['Breed2', 'MaturitySize', 'VideoAmt', 'State']\n",
    "\n",
    "# drop features that are too well correlated with each other (gives better results in classification)\n",
    "feat_drop = ['Dewormed', 'Vaccinated', 'Sterilized']\n",
    "\n",
    "train.drop(feat_drop, axis=1, inplace=True)\n",
    "train.shape"
   ]
  },
  {
   "cell_type": "markdown",
   "metadata": {
    "_uuid": "1315380d1ed4e02ffd63c1596645adf30526da6b"
   },
   "source": [
    "Use fast.ai library to transform categorical data (Name) for classification:"
   ]
  },
  {
   "cell_type": "code",
   "execution_count": 13,
   "metadata": {
    "_uuid": "73ed3a112dd017c1f96a9d7f7be829951f64babc"
   },
   "outputs": [],
   "source": [
    "##train_cats(train)\n",
    "##train.Name.cat.set_categories(list(train.Name.cat.categories), ordered=True, inplace=True)\n",
    "##train.Name = train.Name.cat.codes\n",
    "\n",
    "#train.PetID.cat.set_categories(list(train.PetID.cat.categories), ordered=True, inplace=True)\n",
    "#train.PetID = train.PetID.cat.codes"
   ]
  },
  {
   "cell_type": "markdown",
   "metadata": {
    "_uuid": "bfa91943931d21e297727f36bdad98f648fee9b1"
   },
   "source": [
    "Result:\n",
    "* names are represented as numbers."
   ]
  },
  {
   "cell_type": "code",
   "execution_count": 14,
   "metadata": {
    "_uuid": "3f31df43c6763bb1e509b33e519f4162a60f5a00"
   },
   "outputs": [],
   "source": [
    "##train.head()"
   ]
  },
  {
   "cell_type": "code",
   "execution_count": 15,
   "metadata": {
    "_uuid": "0cb83d16d6dd97854d4aa0c169c7c5bca18c5df5"
   },
   "outputs": [],
   "source": [
    "##train.dtypes  # now the dataset is numeric entirely"
   ]
  },
  {
   "cell_type": "markdown",
   "metadata": {
    "_uuid": "82455229b5ca3c426027c2e99703dc45cd411879"
   },
   "source": [
    "### TEST set"
   ]
  },
  {
   "cell_type": "code",
   "execution_count": 16,
   "metadata": {
    "_uuid": "da078b002eda2a7ff2bc09a00454b6eea7f82825"
   },
   "outputs": [
    {
     "data": {
      "text/html": [
       "<div>\n",
       "<style scoped>\n",
       "    .dataframe tbody tr th:only-of-type {\n",
       "        vertical-align: middle;\n",
       "    }\n",
       "\n",
       "    .dataframe tbody tr th {\n",
       "        vertical-align: top;\n",
       "    }\n",
       "\n",
       "    .dataframe thead th {\n",
       "        text-align: right;\n",
       "    }\n",
       "</style>\n",
       "<table border=\"1\" class=\"dataframe\">\n",
       "  <thead>\n",
       "    <tr style=\"text-align: right;\">\n",
       "      <th></th>\n",
       "      <th>Type</th>\n",
       "      <th>Age</th>\n",
       "      <th>Breed1</th>\n",
       "      <th>Breed2</th>\n",
       "      <th>Gender</th>\n",
       "      <th>Color1</th>\n",
       "      <th>Color2</th>\n",
       "      <th>Color3</th>\n",
       "      <th>MaturitySize</th>\n",
       "      <th>FurLength</th>\n",
       "      <th>Vaccinated</th>\n",
       "      <th>Dewormed</th>\n",
       "      <th>Sterilized</th>\n",
       "      <th>Health</th>\n",
       "      <th>Quantity</th>\n",
       "      <th>Fee</th>\n",
       "      <th>State</th>\n",
       "      <th>VideoAmt</th>\n",
       "      <th>PhotoAmt</th>\n",
       "    </tr>\n",
       "  </thead>\n",
       "  <tbody>\n",
       "    <tr>\n",
       "      <th>0</th>\n",
       "      <td>2</td>\n",
       "      <td>8</td>\n",
       "      <td>266</td>\n",
       "      <td>266</td>\n",
       "      <td>1</td>\n",
       "      <td>2</td>\n",
       "      <td>6</td>\n",
       "      <td>7</td>\n",
       "      <td>1</td>\n",
       "      <td>1</td>\n",
       "      <td>1</td>\n",
       "      <td>1</td>\n",
       "      <td>2</td>\n",
       "      <td>1</td>\n",
       "      <td>2</td>\n",
       "      <td>0</td>\n",
       "      <td>41326</td>\n",
       "      <td>0</td>\n",
       "      <td>2.0</td>\n",
       "    </tr>\n",
       "    <tr>\n",
       "      <th>1</th>\n",
       "      <td>2</td>\n",
       "      <td>36</td>\n",
       "      <td>285</td>\n",
       "      <td>264</td>\n",
       "      <td>2</td>\n",
       "      <td>1</td>\n",
       "      <td>4</td>\n",
       "      <td>7</td>\n",
       "      <td>2</td>\n",
       "      <td>3</td>\n",
       "      <td>1</td>\n",
       "      <td>1</td>\n",
       "      <td>1</td>\n",
       "      <td>2</td>\n",
       "      <td>1</td>\n",
       "      <td>0</td>\n",
       "      <td>41326</td>\n",
       "      <td>0</td>\n",
       "      <td>1.0</td>\n",
       "    </tr>\n",
       "    <tr>\n",
       "      <th>2</th>\n",
       "      <td>2</td>\n",
       "      <td>2</td>\n",
       "      <td>265</td>\n",
       "      <td>0</td>\n",
       "      <td>1</td>\n",
       "      <td>6</td>\n",
       "      <td>7</td>\n",
       "      <td>0</td>\n",
       "      <td>2</td>\n",
       "      <td>2</td>\n",
       "      <td>1</td>\n",
       "      <td>1</td>\n",
       "      <td>2</td>\n",
       "      <td>1</td>\n",
       "      <td>1</td>\n",
       "      <td>200</td>\n",
       "      <td>41326</td>\n",
       "      <td>0</td>\n",
       "      <td>4.0</td>\n",
       "    </tr>\n",
       "    <tr>\n",
       "      <th>3</th>\n",
       "      <td>1</td>\n",
       "      <td>12</td>\n",
       "      <td>307</td>\n",
       "      <td>0</td>\n",
       "      <td>2</td>\n",
       "      <td>2</td>\n",
       "      <td>5</td>\n",
       "      <td>0</td>\n",
       "      <td>2</td>\n",
       "      <td>2</td>\n",
       "      <td>1</td>\n",
       "      <td>1</td>\n",
       "      <td>1</td>\n",
       "      <td>1</td>\n",
       "      <td>2</td>\n",
       "      <td>0</td>\n",
       "      <td>41326</td>\n",
       "      <td>0</td>\n",
       "      <td>5.0</td>\n",
       "    </tr>\n",
       "    <tr>\n",
       "      <th>4</th>\n",
       "      <td>2</td>\n",
       "      <td>12</td>\n",
       "      <td>265</td>\n",
       "      <td>0</td>\n",
       "      <td>1</td>\n",
       "      <td>2</td>\n",
       "      <td>3</td>\n",
       "      <td>7</td>\n",
       "      <td>2</td>\n",
       "      <td>2</td>\n",
       "      <td>1</td>\n",
       "      <td>1</td>\n",
       "      <td>1</td>\n",
       "      <td>1</td>\n",
       "      <td>1</td>\n",
       "      <td>0</td>\n",
       "      <td>41326</td>\n",
       "      <td>0</td>\n",
       "      <td>5.0</td>\n",
       "    </tr>\n",
       "  </tbody>\n",
       "</table>\n",
       "</div>"
      ],
      "text/plain": [
       "   Type  Age  Breed1  Breed2    ...     Fee  State  VideoAmt  PhotoAmt\n",
       "0     2    8     266     266    ...       0  41326         0       2.0\n",
       "1     2   36     285     264    ...       0  41326         0       1.0\n",
       "2     2    2     265       0    ...     200  41326         0       4.0\n",
       "3     1   12     307       0    ...       0  41326         0       5.0\n",
       "4     2   12     265       0    ...       0  41326         0       5.0\n",
       "\n",
       "[5 rows x 19 columns]"
      ]
     },
     "execution_count": 16,
     "metadata": {},
     "output_type": "execute_result"
    }
   ],
   "source": [
    "test = pd.read_csv('../input/test/test.csv')\n",
    "test.drop(to_drop, axis=1, inplace=True)  # optional\n",
    "test.head()"
   ]
  },
  {
   "cell_type": "markdown",
   "metadata": {
    "_uuid": "0b5e6f05762f38a7499d7615be6cf639872fa506"
   },
   "source": [
    "Same as the train set:\n",
    "* clean and fill nan for Name."
   ]
  },
  {
   "cell_type": "code",
   "execution_count": 17,
   "metadata": {
    "_uuid": "fa229b5d85a8f5a7db5db7bf1baaffe7b1cf1534"
   },
   "outputs": [],
   "source": [
    "#test.isna().sum()\n",
    "#test.Description = test.Description.fillna('None')\n",
    "\n",
    "# replace nan values with a string:\n",
    "#test.Name = test.Name.fillna('NoNameSpecified')\n",
    "##test.Name = test.Name.fillna('Baby')\n",
    "\n",
    "# clean: remove all characters except for alphanumeric:\n",
    "# (NB: removed characters are replaced with a zero length string)\n",
    "##test.Name = test.Name.map(lambda name: re.sub('[^A-Za-z0-9]+', '', name))\n",
    "\n",
    "# replacing zero length strings that appeared after cleaning (above):\n",
    "##test.loc[test.Name == '', 'Name'] = 'NoNameLostIt'\n",
    "\n",
    "#test.isna().sum()"
   ]
  },
  {
   "cell_type": "markdown",
   "metadata": {
    "_uuid": "b589dbb07da600a05e8bc42c962e153145171a2a"
   },
   "source": [
    "Names in the test set:"
   ]
  },
  {
   "cell_type": "code",
   "execution_count": 18,
   "metadata": {
    "_uuid": "770fef5349e2dc8b967d6e08478c1a6f345f5ce1",
    "scrolled": true
   },
   "outputs": [],
   "source": [
    "##test.Name.value_counts()"
   ]
  },
  {
   "cell_type": "code",
   "execution_count": 19,
   "metadata": {
    "_uuid": "bb052f184ff5485ed56563f23116c1cf2f37efcd"
   },
   "outputs": [
    {
     "data": {
      "text/plain": [
       "(3972, 19)"
      ]
     },
     "execution_count": 19,
     "metadata": {},
     "output_type": "execute_result"
    }
   ],
   "source": [
    "#test.isna().sum()\n",
    "test.shape"
   ]
  },
  {
   "cell_type": "markdown",
   "metadata": {
    "_uuid": "9f2ea2ac5cab57d33de7ea4bd666375ed8cab98c"
   },
   "source": [
    "Drop features the same way as in the train set"
   ]
  },
  {
   "cell_type": "code",
   "execution_count": 20,
   "metadata": {
    "_uuid": "dbc56b3133cc3f9328aafc7fd02d0a7a9baf47d2"
   },
   "outputs": [
    {
     "data": {
      "text/plain": [
       "(3972, 16)"
      ]
     },
     "execution_count": 20,
     "metadata": {},
     "output_type": "execute_result"
    }
   ],
   "source": [
    "test.drop(feat_drop, axis=1, inplace=True)\n",
    "test.shape"
   ]
  },
  {
   "cell_type": "markdown",
   "metadata": {
    "_uuid": "13a458290939fed2779809148ec89c74e02e0c5c"
   },
   "source": [
    "Use fast.ai library to transform categorical data (Name) for classification:"
   ]
  },
  {
   "cell_type": "code",
   "execution_count": 21,
   "metadata": {
    "_uuid": "41e0955f7538f5c9d80ccc24b66b4ecf1f88dcd1"
   },
   "outputs": [],
   "source": [
    "##train_cats(test)\n",
    "##test.Name.cat.set_categories(list(test.Name.cat.categories), ordered=True, inplace=True)\n",
    "##test.Name = test.Name.cat.codes\n",
    "\n",
    "#test.PetID.cat.set_categories(list(test.PetID.cat.categories), ordered=True, inplace=True)\n",
    "#test.PetID = test.PetID.cat.codes"
   ]
  },
  {
   "cell_type": "code",
   "execution_count": 22,
   "metadata": {
    "_uuid": "2b6a35c47afa88ec1b82b2e6de8e4de6c95dc0be"
   },
   "outputs": [
    {
     "data": {
      "text/html": [
       "<div>\n",
       "<style scoped>\n",
       "    .dataframe tbody tr th:only-of-type {\n",
       "        vertical-align: middle;\n",
       "    }\n",
       "\n",
       "    .dataframe tbody tr th {\n",
       "        vertical-align: top;\n",
       "    }\n",
       "\n",
       "    .dataframe thead th {\n",
       "        text-align: right;\n",
       "    }\n",
       "</style>\n",
       "<table border=\"1\" class=\"dataframe\">\n",
       "  <thead>\n",
       "    <tr style=\"text-align: right;\">\n",
       "      <th></th>\n",
       "      <th>Type</th>\n",
       "      <th>Age</th>\n",
       "      <th>Breed1</th>\n",
       "      <th>Breed2</th>\n",
       "      <th>Gender</th>\n",
       "      <th>Color1</th>\n",
       "      <th>Color2</th>\n",
       "      <th>Color3</th>\n",
       "      <th>MaturitySize</th>\n",
       "      <th>FurLength</th>\n",
       "      <th>Health</th>\n",
       "      <th>Quantity</th>\n",
       "      <th>Fee</th>\n",
       "      <th>State</th>\n",
       "      <th>VideoAmt</th>\n",
       "      <th>PhotoAmt</th>\n",
       "    </tr>\n",
       "  </thead>\n",
       "  <tbody>\n",
       "    <tr>\n",
       "      <th>0</th>\n",
       "      <td>2</td>\n",
       "      <td>8</td>\n",
       "      <td>266</td>\n",
       "      <td>266</td>\n",
       "      <td>1</td>\n",
       "      <td>2</td>\n",
       "      <td>6</td>\n",
       "      <td>7</td>\n",
       "      <td>1</td>\n",
       "      <td>1</td>\n",
       "      <td>1</td>\n",
       "      <td>2</td>\n",
       "      <td>0</td>\n",
       "      <td>41326</td>\n",
       "      <td>0</td>\n",
       "      <td>2.0</td>\n",
       "    </tr>\n",
       "    <tr>\n",
       "      <th>1</th>\n",
       "      <td>2</td>\n",
       "      <td>36</td>\n",
       "      <td>285</td>\n",
       "      <td>264</td>\n",
       "      <td>2</td>\n",
       "      <td>1</td>\n",
       "      <td>4</td>\n",
       "      <td>7</td>\n",
       "      <td>2</td>\n",
       "      <td>3</td>\n",
       "      <td>2</td>\n",
       "      <td>1</td>\n",
       "      <td>0</td>\n",
       "      <td>41326</td>\n",
       "      <td>0</td>\n",
       "      <td>1.0</td>\n",
       "    </tr>\n",
       "    <tr>\n",
       "      <th>2</th>\n",
       "      <td>2</td>\n",
       "      <td>2</td>\n",
       "      <td>265</td>\n",
       "      <td>0</td>\n",
       "      <td>1</td>\n",
       "      <td>6</td>\n",
       "      <td>7</td>\n",
       "      <td>0</td>\n",
       "      <td>2</td>\n",
       "      <td>2</td>\n",
       "      <td>1</td>\n",
       "      <td>1</td>\n",
       "      <td>200</td>\n",
       "      <td>41326</td>\n",
       "      <td>0</td>\n",
       "      <td>4.0</td>\n",
       "    </tr>\n",
       "    <tr>\n",
       "      <th>3</th>\n",
       "      <td>1</td>\n",
       "      <td>12</td>\n",
       "      <td>307</td>\n",
       "      <td>0</td>\n",
       "      <td>2</td>\n",
       "      <td>2</td>\n",
       "      <td>5</td>\n",
       "      <td>0</td>\n",
       "      <td>2</td>\n",
       "      <td>2</td>\n",
       "      <td>1</td>\n",
       "      <td>2</td>\n",
       "      <td>0</td>\n",
       "      <td>41326</td>\n",
       "      <td>0</td>\n",
       "      <td>5.0</td>\n",
       "    </tr>\n",
       "    <tr>\n",
       "      <th>4</th>\n",
       "      <td>2</td>\n",
       "      <td>12</td>\n",
       "      <td>265</td>\n",
       "      <td>0</td>\n",
       "      <td>1</td>\n",
       "      <td>2</td>\n",
       "      <td>3</td>\n",
       "      <td>7</td>\n",
       "      <td>2</td>\n",
       "      <td>2</td>\n",
       "      <td>1</td>\n",
       "      <td>1</td>\n",
       "      <td>0</td>\n",
       "      <td>41326</td>\n",
       "      <td>0</td>\n",
       "      <td>5.0</td>\n",
       "    </tr>\n",
       "  </tbody>\n",
       "</table>\n",
       "</div>"
      ],
      "text/plain": [
       "   Type  Age  Breed1  Breed2    ...     Fee  State  VideoAmt  PhotoAmt\n",
       "0     2    8     266     266    ...       0  41326         0       2.0\n",
       "1     2   36     285     264    ...       0  41326         0       1.0\n",
       "2     2    2     265       0    ...     200  41326         0       4.0\n",
       "3     1   12     307       0    ...       0  41326         0       5.0\n",
       "4     2   12     265       0    ...       0  41326         0       5.0\n",
       "\n",
       "[5 rows x 16 columns]"
      ]
     },
     "execution_count": 22,
     "metadata": {},
     "output_type": "execute_result"
    }
   ],
   "source": [
    "test.head()"
   ]
  },
  {
   "cell_type": "markdown",
   "metadata": {
    "_uuid": "efc7a088a3c0cb43133c16427516f9ad0f6f5123"
   },
   "source": [
    "### BREEDS, COLORS AND STATES sets"
   ]
  },
  {
   "cell_type": "code",
   "execution_count": 23,
   "metadata": {
    "_uuid": "8ed75a86704345e4b67dc53aba0ab11485967d04"
   },
   "outputs": [],
   "source": [
    "#breeds = pd.read_csv('../input/breed_labels.csv')\n",
    "#breeds.head()"
   ]
  },
  {
   "cell_type": "code",
   "execution_count": 24,
   "metadata": {
    "_uuid": "0624081cdb8f7ad5c6cf389fa10731d5ddbda98e"
   },
   "outputs": [],
   "source": [
    "#breeds.shape"
   ]
  },
  {
   "cell_type": "code",
   "execution_count": 25,
   "metadata": {
    "_uuid": "b5285d49a57473b386ee0207c0ea1f07bb42a7a0"
   },
   "outputs": [],
   "source": [
    "#colors = pd.read_csv('../input/color_labels.csv')\n",
    "#colors"
   ]
  },
  {
   "cell_type": "code",
   "execution_count": 26,
   "metadata": {
    "_uuid": "4d109ff4342222f36d506c5d044613cb81404c9e"
   },
   "outputs": [],
   "source": [
    "#states = pd.read_csv('../input/state_labels.csv')\n",
    "#states"
   ]
  },
  {
   "cell_type": "markdown",
   "metadata": {
    "_uuid": "ccdaa64cd1933ff4d13356a93dff5f368c3f6b0a"
   },
   "source": [
    "# Models"
   ]
  },
  {
   "cell_type": "code",
   "execution_count": 27,
   "metadata": {
    "_uuid": "c0503530eb8725be7ed087d8c1adf5b61d40d915"
   },
   "outputs": [],
   "source": [
    "from sklearn.model_selection import GridSearchCV, StratifiedKFold  #, train_test_split\n",
    "from sklearn.metrics import make_scorer\n",
    "\n",
    "from sklearn.tree import DecisionTreeClassifier\n",
    "from sklearn.ensemble import RandomForestClassifier\n",
    "from xgboost import XGBClassifier"
   ]
  },
  {
   "cell_type": "markdown",
   "metadata": {
    "_uuid": "df7495af6ea821c91ac032baf2f38e0b89f96607"
   },
   "source": [
    "What are we predicting?"
   ]
  },
  {
   "cell_type": "code",
   "execution_count": 28,
   "metadata": {
    "_uuid": "914e49e7e326de24b71c1214a3a1e40c0d24d9ad"
   },
   "outputs": [
    {
     "data": {
      "text/plain": [
       "array([2, 0, 3, 1, 4])"
      ]
     },
     "execution_count": 28,
     "metadata": {},
     "output_type": "execute_result"
    }
   ],
   "source": [
    "train.AdoptionSpeed.unique()  #hist(figsize=(6,4));"
   ]
  },
  {
   "cell_type": "markdown",
   "metadata": {
    "_uuid": "eb41125267e66f1465b09351ccb56b4029a43c07"
   },
   "source": [
    "How are we predicting?\n",
    "\n",
    "Submissions are scored based on the **quadratic weighted kappa**, which measures the agreement between two ratings. This metric typically varies from 0 (random agreement between raters) to 1 (complete agreement between raters). In the event that there is less agreement between the raters than expected by chance, the metric may go below 0. The quadratic weighted kappa is calculated between the scores which are expected/known and the predicted scores.\n",
    "\n",
    "Prepare the scorer: "
   ]
  },
  {
   "cell_type": "code",
   "execution_count": 29,
   "metadata": {
    "_uuid": "246f82f742cf4af7b8ba3d92a97b25f896856c3e"
   },
   "outputs": [],
   "source": [
    "# The following 3 functions have been taken from Ben Hamner's github repository\n",
    "# https://github.com/benhamner/Metrics\n",
    "\n",
    "def Cmatrix(rater_a, rater_b, min_rating=None, max_rating=None):\n",
    "    \"\"\"\n",
    "    Returns the confusion matrix between rater's ratings\n",
    "    \"\"\"\n",
    "    assert(len(rater_a) == len(rater_b))\n",
    "    if min_rating is None:\n",
    "        min_rating = min(rater_a + rater_b)\n",
    "    if max_rating is None:\n",
    "        max_rating = max(rater_a + rater_b)\n",
    "    num_ratings = int(max_rating - min_rating + 1)\n",
    "    conf_mat = [[0 for i in range(num_ratings)]\n",
    "                for j in range(num_ratings)]\n",
    "    for a, b in zip(rater_a, rater_b):\n",
    "        conf_mat[a - min_rating][b - min_rating] += 1\n",
    "    return conf_mat\n",
    "\n",
    "\n",
    "def histogram(ratings, min_rating=None, max_rating=None):\n",
    "    \"\"\"\n",
    "    Returns the counts of each type of rating that a rater made\n",
    "    \"\"\"\n",
    "    if min_rating is None:\n",
    "        min_rating = min(ratings)\n",
    "    if max_rating is None:\n",
    "        max_rating = max(ratings)\n",
    "    num_ratings = int(max_rating - min_rating + 1)\n",
    "    hist_ratings = [0 for x in range(num_ratings)]\n",
    "    for r in ratings:\n",
    "        hist_ratings[r - min_rating] += 1\n",
    "    return hist_ratings\n",
    "\n",
    "\n",
    "def quadratic_weighted_kappa(y, y_pred):\n",
    "    \"\"\"\n",
    "    Calculates the quadratic weighted kappa\n",
    "    axquadratic_weighted_kappa calculates the quadratic weighted kappa\n",
    "    value, which is a measure of inter-rater agreement between two raters\n",
    "    that provide discrete numeric ratings.  Potential values range from -1\n",
    "    (representing complete disagreement) to 1 (representing complete\n",
    "    agreement).  A kappa value of 0 is expected if all agreement is due to\n",
    "    chance.\n",
    "    quadratic_weighted_kappa(rater_a, rater_b), where rater_a and rater_b\n",
    "    each correspond to a list of integer ratings.  These lists must have the\n",
    "    same length.\n",
    "    The ratings should be integers, and it is assumed that they contain\n",
    "    the complete range of possible ratings.\n",
    "    quadratic_weighted_kappa(X, min_rating, max_rating), where min_rating\n",
    "    is the minimum possible rating, and max_rating is the maximum possible\n",
    "    rating\n",
    "    \"\"\"\n",
    "    rater_a = y\n",
    "    rater_b = y_pred\n",
    "    min_rating=None\n",
    "    max_rating=None\n",
    "    rater_a = np.array(rater_a, dtype=int)\n",
    "    rater_b = np.array(rater_b, dtype=int)\n",
    "    assert(len(rater_a) == len(rater_b))\n",
    "    if min_rating is None:\n",
    "        min_rating = min(min(rater_a), min(rater_b))\n",
    "    if max_rating is None:\n",
    "        max_rating = max(max(rater_a), max(rater_b))\n",
    "    conf_mat = Cmatrix(rater_a, rater_b,\n",
    "                                min_rating, max_rating)\n",
    "    num_ratings = len(conf_mat)\n",
    "    num_scored_items = float(len(rater_a))\n",
    "\n",
    "    hist_rater_a = histogram(rater_a, min_rating, max_rating)\n",
    "    hist_rater_b = histogram(rater_b, min_rating, max_rating)\n",
    "\n",
    "    numerator = 0.0\n",
    "    denominator = 0.0\n",
    "\n",
    "    for i in range(num_ratings):\n",
    "        for j in range(num_ratings):\n",
    "            expected_count = (hist_rater_a[i] * hist_rater_b[j]\n",
    "                              / num_scored_items)\n",
    "            d = pow(i - j, 2.0) / pow(num_ratings - 1, 2.0)\n",
    "            numerator += d * conf_mat[i][j] / num_scored_items\n",
    "            denominator += d * expected_count / num_scored_items\n",
    "\n",
    "    return (1.0 - numerator / denominator)"
   ]
  },
  {
   "cell_type": "code",
   "execution_count": 30,
   "metadata": {
    "_uuid": "9e4f7af2c5e7bd142aaa8aa384f2bbe2cf6fc47a"
   },
   "outputs": [],
   "source": [
    "#kappa_scorer = make_scorer(cohen_kappa_score(weights='quadratic'), greater_is_better=True)  # wrong\n",
    "kappa_scorer = make_scorer(quadratic_weighted_kappa, greater_is_better=True)"
   ]
  },
  {
   "cell_type": "markdown",
   "metadata": {
    "_uuid": "6a2032c73a026f813684b38d25c0efbdf1d53b34"
   },
   "source": [
    "Split the data using fast.ai's proc_df function:"
   ]
  },
  {
   "cell_type": "code",
   "execution_count": 31,
   "metadata": {
    "_uuid": "500f2f8fb740f1ae7b600a8d04329f9cbdd7d58e"
   },
   "outputs": [],
   "source": [
    "X, y, nan = proc_df(train, 'AdoptionSpeed')\n",
    "\n",
    "#X = train.drop(['AdoptionSpeed'], axis=1)\n",
    "#y = train.AdoptionSpeed\n",
    "#X_train, X_test, y_train, y_test = train_test_split(X, y)"
   ]
  },
  {
   "cell_type": "markdown",
   "metadata": {
    "_uuid": "03793b6092001e0d2d1b7ba1efc1ea5444650019"
   },
   "source": [
    "## DecisionTreeClassifier"
   ]
  },
  {
   "cell_type": "markdown",
   "metadata": {
    "_uuid": "8721d764ca6bbb86aed24ce7a909623999290587"
   },
   "source": [
    "Best parameters search"
   ]
  },
  {
   "cell_type": "code",
   "execution_count": 32,
   "metadata": {
    "_uuid": "4e940a791694c507fab507d9c5e34b544b68809b",
    "scrolled": true
   },
   "outputs": [],
   "source": [
    "#tree = DecisionTreeClassifier()\n",
    "#tree_params = {\n",
    "#    'criterion' : ['gini', 'entropy'],\n",
    "#    'max_depth' : list(range(2, 11))\n",
    "#}\n",
    "#tree_grid = GridSearchCV(tree, tree_params, n_jobs=-1, cv=5, verbose=True, scoring=kappa_scorer)\n",
    "#tree_grid.fit(X, y);"
   ]
  },
  {
   "cell_type": "code",
   "execution_count": 33,
   "metadata": {
    "_uuid": "378fa1ceb0337d8909f43ab78a822de0cebd8dac"
   },
   "outputs": [],
   "source": [
    "#tree_grid.best_params_, tree_grid.best_score_"
   ]
  },
  {
   "cell_type": "markdown",
   "metadata": {
    "_uuid": "e59b3320e539180921d4916c29b882b0b6e8fb14"
   },
   "source": [
    "## RandomForestClassifier"
   ]
  },
  {
   "cell_type": "markdown",
   "metadata": {
    "_uuid": "f57d54f588aa5d5eeb3baf884cd4319afb304985"
   },
   "source": [
    "Parameters search"
   ]
  },
  {
   "cell_type": "code",
   "execution_count": 34,
   "metadata": {
    "_uuid": "c2afdb5cd0dd0dd52c92bc29a30bb18f852e49bd"
   },
   "outputs": [],
   "source": [
    "#max_depth_values = range(2, 16)\n",
    "#max_features_values = range(2, 16)\n",
    "#n_estimators = [60, 70]  #[40, 50, 60]\n",
    "#forest_params = {'max_depth': max_depth_values,\n",
    "#                 'max_features': max_features_values,\n",
    "#                 'n_estimators': n_estimators}"
   ]
  },
  {
   "cell_type": "code",
   "execution_count": 35,
   "metadata": {
    "_uuid": "09534d229c2e535ea53290fdf43e3331612953fb"
   },
   "outputs": [],
   "source": [
    "#skf = StratifiedKFold(n_splits=5, shuffle=True)"
   ]
  },
  {
   "cell_type": "code",
   "execution_count": 36,
   "metadata": {
    "_uuid": "6d21a7f873f5882af78ee16adebfa2fcb1037c1f"
   },
   "outputs": [],
   "source": [
    "#%%time\n",
    "#forest = RandomForestClassifier()\n",
    "#rf_grid = GridSearchCV(forest, forest_params, n_jobs=-1, scoring=kappa_scorer, cv=skf)\n",
    "#rf_grid.fit(X, y);"
   ]
  },
  {
   "cell_type": "code",
   "execution_count": 37,
   "metadata": {
    "_uuid": "222e9a58008c9db4604894087be1c44469467808"
   },
   "outputs": [],
   "source": [
    "#rf_grid.best_params_, rf_grid.best_score_"
   ]
  },
  {
   "cell_type": "markdown",
   "metadata": {
    "_uuid": "9f937c3fedc7c8d3033736873dcc59c286a66a80"
   },
   "source": [
    "## XGBClassifier"
   ]
  },
  {
   "cell_type": "code",
   "execution_count": 38,
   "metadata": {
    "_uuid": "7abdf5ccb18f254e93c4a08f1c39da684690f771"
   },
   "outputs": [],
   "source": [
    "skf = StratifiedKFold(n_splits=5, shuffle=True)"
   ]
  },
  {
   "cell_type": "code",
   "execution_count": 39,
   "metadata": {
    "_uuid": "863c94f818bf4db0a9d54a06e7c826f8fb8b8de8"
   },
   "outputs": [],
   "source": [
    "max_depth_values = range(3, 9)\n",
    "min_child_weight = range(1, 3)\n",
    "n_estimators = [80]\n",
    "xgb_params = {\n",
    "    'max_depth' : max_depth_values,\n",
    "    'min_child_weight' : min_child_weight,\n",
    "    'n_estimators' : n_estimators,\n",
    "}"
   ]
  },
  {
   "cell_type": "code",
   "execution_count": 40,
   "metadata": {
    "_uuid": "563e65cea55241a6addae3cd4fbf0b4b1d6648cd"
   },
   "outputs": [
    {
     "name": "stdout",
     "output_type": "stream",
     "text": [
      "CPU times: user 7.01 s, sys: 164 ms, total: 7.17 s\n",
      "Wall time: 2min 23s\n"
     ]
    }
   ],
   "source": [
    "%%time\n",
    "xgb = XGBClassifier()  #subsample=0.7)\n",
    "xgb_grid = GridSearchCV(xgb, xgb_params, n_jobs=-1, scoring=kappa_scorer, cv=skf)  #5)\n",
    "xgb_grid.fit(X, y);"
   ]
  },
  {
   "cell_type": "code",
   "execution_count": 41,
   "metadata": {
    "_uuid": "7ade437a93cfc16a4e94c90b7cd99fdb948d9496"
   },
   "outputs": [
    {
     "data": {
      "text/plain": [
       "({'max_depth': 5, 'min_child_weight': 2, 'n_estimators': 80},\n",
       " 0.34159905117579403)"
      ]
     },
     "execution_count": 41,
     "metadata": {},
     "output_type": "execute_result"
    }
   ],
   "source": [
    "xgb_grid.best_params_, xgb_grid.best_score_"
   ]
  },
  {
   "cell_type": "code",
   "execution_count": 42,
   "metadata": {
    "_uuid": "4cab50d552b60c6eb3611384091b41fe1a524207"
   },
   "outputs": [
    {
     "data": {
      "text/plain": [
       "array([4, 1, 1, ..., 4, 4, 4])"
      ]
     },
     "execution_count": 42,
     "metadata": {},
     "output_type": "execute_result"
    }
   ],
   "source": [
    "xgb_grid.best_estimator_.predict(test)"
   ]
  },
  {
   "cell_type": "markdown",
   "metadata": {
    "_uuid": "b4fa97749b2eb745855751f295cf2ce40b2c9483"
   },
   "source": [
    "# Submission"
   ]
  },
  {
   "cell_type": "code",
   "execution_count": 43,
   "metadata": {
    "_uuid": "59effde6d50112e9c2f91f1242023cd53e2a3ee0"
   },
   "outputs": [],
   "source": [
    "sub = pd.read_csv('../input/test/sample_submission.csv')\n",
    "\n",
    "#pred = tree_grid.predict(test)\n",
    "#pred = rf_grid.predict(test)\n",
    "pred = xgb_grid.predict(test)\n",
    "\n",
    "sub['AdoptionSpeed'] = pd.Series(pred)\n",
    "sub.to_csv('submission.csv', index=False)"
   ]
  }
 ],
 "metadata": {
  "kernelspec": {
   "display_name": "Python 3",
   "language": "python",
   "name": "python3"
  },
  "language_info": {
   "codemirror_mode": {
    "name": "ipython",
    "version": 3
   },
   "file_extension": ".py",
   "mimetype": "text/x-python",
   "name": "python",
   "nbconvert_exporter": "python",
   "pygments_lexer": "ipython3",
   "version": "3.6.6"
  }
 },
 "nbformat": 4,
 "nbformat_minor": 1
}
