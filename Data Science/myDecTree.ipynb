{
  "cells": [
    {
      "metadata": {
        "trusted": true
      },
      "cell_type": "code",
      "source": "import pandas as pd\nimport numpy as np\nimport seaborn as sns\nfrom sklearn.model_selection import train_test_split\nfrom sklearn.tree import DecisionTreeClassifier\nfrom sklearn.metrics import accuracy_score",
      "execution_count": 1,
      "outputs": []
    },
    {
      "metadata": {
        "collapsed": true
      },
      "cell_type": "markdown",
      "source": "# Custom DecisionTree\n## Classes and functions"
    },
    {
      "metadata": {
        "trusted": true
      },
      "cell_type": "code",
      "source": "def transform_data(df):\n    \"\"\" Transform the dataset into a list of rows. \"\"\"\n    return [row for row in df.itertuples(index=False, name='Pandas')]\n\n\ndef is_numeric(value):\n    \"\"\" Check if the values is numeric. \"\"\"\n    return isinstance(value, int) or isinstance(value, float)\n\n\ndef gini(rows):\n    \"\"\"\n    Calculate the Gini Impurity for a list of rows (загрязненность; примеси).\n    Source: https://en.wikipedia.org/wiki/Decision_tree_learning#Gini_impurity\n    \"\"\"\n    counts = label_counts(rows)\n    #print(counts)\n    impurity = 1\n    for target in counts:\n        #print(target)\n        p_i = counts[target] / float(len(rows))\n        #print(p_i)\n        impurity -= p_i ** 2\n    return impurity\n\n\ndef info_gain(left, right, current_uncertainty):\n    \"\"\"\n    Information Gain.\n    The uncertainty of the starting node, minus the weighted impurity of two child nodes.\n    \"\"\"\n    p = float(len(left)) / (len(left) + len(right))\n    return current_uncertainty - p * gini(left) - (1 - p) * gini(right)\n\n\ndef label_counts(rows):\n    \"\"\"\n    Counts the number of each possible value of example (label) in a dataset (for target feature).\n    Besides, for predictions counts the number of times a particular label appeared in a leaf node.\n    \"\"\"\n    counts = {}  # a dictionary of label -> count.\n    for row in rows:\n        # target value is considered to be the last column in the dataset\n        label = row[-1]\n        if label not in counts:\n            counts[label] = 0\n        counts[label] += 1\n    return counts",
      "execution_count": 2,
      "outputs": []
    },
    {
      "metadata": {
        "trusted": true
      },
      "cell_type": "code",
      "source": "class Question:\n    \"\"\"\n    For each Node in a Tree there is a Question. Records a column number and a column value.\n    The 'match' method is used to compare the feature value in an example (row) to the feature value (& condition) stored in the Question.\n    \"\"\"\n    def __init__(self, column, value):\n        self.column = column\n        self.value = value\n\n    def match(self, example):\n        # Compare the feature value in an example to the feature value in this question.\n        # Returns True or False.\n        val = example[self.column]\n        if is_numeric(val):\n            return val >= self.value\n        else:\n            return val == self.value\n\n    def __repr__(self):\n        # print the question in a readable form;\n        # purely for beautiful output\n        condition = \"==\"\n        if is_numeric(self.value):\n            condition = \">=\"\n        return \"Is %s %s %s?\" % (\n            headers[self.column], condition, str(self.value))",
      "execution_count": 3,
      "outputs": []
    },
    {
      "metadata": {
        "trusted": true
      },
      "cell_type": "code",
      "source": "class Leaf:\n    \"\"\"\n    A Leaf node.\n    Holds a dictionary of class -> number of times it appears in the rows from the train set that reaches this leaf.\n    \"\"\"\n    def __init__(self, rows):\n        self.predictions = label_counts(rows)",
      "execution_count": 4,
      "outputs": []
    },
    {
      "metadata": {
        "trusted": true
      },
      "cell_type": "code",
      "source": "class Decision_Node:\n    \"\"\"\n    A Decision Node has a question.\n    Holds a reference to the question, and to the two child nodes.\n    \"\"\"\n    def __init__(self, question, true_branch, false_branch):\n        self.question = question\n        self.true_branch = true_branch\n        self.false_branch = false_branch\n\n    def print_tree(self, node, spacing=\"\"):\n\n        # Base case: we've reached a leaf\n        if isinstance(node, Leaf):\n            print (spacing + \"PREDICT\", node.predictions)\n            return\n\n        # print the question at this node\n        print (spacing + str(node.question))\n\n        # Call this function recursively on the 'True branch'\n        print (spacing + '--> True:')\n        self.print_tree(node.true_branch, spacing + \"  \")\n\n        # Call this function recursively on the 'False branch'\n        print (spacing + '--> False:')\n        self.print_tree(node.false_branch, spacing + \"  \")",
      "execution_count": 5,
      "outputs": []
    },
    {
      "metadata": {},
      "cell_type": "markdown",
      "source": "## Tree building"
    },
    {
      "metadata": {
        "trusted": true,
        "scrolled": true
      },
      "cell_type": "code",
      "source": "class DecisionTree:\n    \n    def __init__(self, max_depth=np.inf):\n        self.max_depth = max_depth\n        self.initial_depth = 0\n        #self.root = None\n\n\n    def partition(self, rows, question):\n        \"\"\"\n        Partitions a dataset into 'True rows' and 'False rows'.\n        For each row in the dataset, check if it matches the question (its condition).\n        If so, add it to 'True rows', otherwise, add it to 'False rows'.\n        \"\"\"\n        true_rows, false_rows = [], []\n        for row in rows:\n            if question.match(row):\n                true_rows.append(row)\n            else:\n                false_rows.append(row)\n        return true_rows, false_rows\n\n\n    def find_best_split(self, rows):\n        \"\"\"\n        Find the best question by iterating over every feature/value (condition) and calculating the information gain.\n        \"\"\"\n        best_gain = 0  # best info gain (initial)\n        best_question = None  # the feature / value that produced the gain (initial)\n        current_uncertainty = gini(rows)  # initial uncertainty\n        n_feats = len(rows[0]) - 1  # number of columns (exclude the target)\n\n        for col in range(n_feats):  # for each feature\n\n            values = set([row[col] for row in rows])  # unique values in the column\n\n            for val in values:  # for each value in the unique set\n\n                question = Question(col, val)  # current feature/value (condition)\n\n                # try splitting the dataset\n                true_rows, false_rows = self.partition(rows, question)\n\n                # skip this split if it doesn't divide the dataset\n                if len(true_rows) == 0 or len(false_rows) == 0:\n                    continue\n\n                # calculate the information gain from this split\n                gain = info_gain(true_rows, false_rows, current_uncertainty)\n\n                # we can also use '>='\n                if gain > best_gain:\n                    best_gain, best_question = gain, question\n\n        return best_gain, best_question\n\n\n    def build_tree(self, rows):\n        \"\"\" Builds a tree using recursion. \"\"\"\n        \n        # increase the depth for the test above\n        self.initial_depth += 1\n\n        # check if max_depth is reached\n        # if so, leave\n        if self.initial_depth >= self.max_depth:\n            return Leaf(rows)\n\n        # get the best info gain and the question that produces it\n        gain, question = self.find_best_split(rows)\n\n        # base case: no futher info gain\n        # if no futher questions => return a leaf\n        if gain == 0:\n            return Leaf(rows)\n\n        # if we reach here, we have found a useful feature/value (condition) to partition on\n        true_rows, false_rows = self.partition(rows, question)\n\n        # recursively build the 'True branch'.\n        true_branch = self.build_tree(true_rows)\n\n        # recursively build the 'False branch'.\n        false_branch = self.build_tree(false_rows)\n\n        # Returns a Question node along with two branches.\n        # Records the best feature/value (condition) to ask at this point,\n        # as well as the branches to follow depending on the answer.\n        return Decision_Node(question, true_branch, false_branch)\n\n\n    def fit(self, training_data):\n        \"\"\" Fits the training data by building a tree. \"\"\"\n        rows = transform_data(training_data)\n        return self.build_tree(rows)",
      "execution_count": 6,
      "outputs": []
    },
    {
      "metadata": {
        "trusted": true
      },
      "cell_type": "code",
      "source": "def classify(row, node):\n    \"\"\" Makes a prediction for a row. \"\"\"\n\n    # Base case: we've reached a leaf\n    if isinstance(node, Leaf):\n        return node.predictions\n\n    # Decide whether to follow the 'True branch' or the 'False branch' using 'match' function.\n    # Then classify the branches.\n    if node.question.match(row):\n        return classify(row, node.true_branch)\n    else:\n        return classify(row, node.false_branch)\n\n\ndef predict(my_tree, testing_data):\n    \"\"\" Returns predictions. \"\"\"\n\n    rows = transform_data(testing_data)\n    \n    # get a list of dictionaries\n    pred_dicts = [classify(rows[i], my_tree) for i in range(len(rows))]\n    \n    # sort each dictionary by value and get a list of tuples\n    tuples = [sorted(row.items(), reverse=True, key=lambda k: k[1]) for row in pred_dicts]\n    \n    # return a list of first elements in each tuple;\n    # result: the list of most likely predictions \n    return [i[0][0] for i in tuples]\n\n\ndef score(actual, pred):\n    \"\"\" Returns accuracy and indexes of rows with wrong predictions. \"\"\"\n    cnt = 0\n    wrong_idxs = []\n    for i in range(len(actual)):\n        if pred[i] != actual[i]:\n            cnt += 1\n            wrong_idxs.append(i)\n    return 1 - cnt / len(actual), wrong_idxs\n\n\ndef print_leaf(counts):\n    \"\"\" Predictions with porbabilities. \"\"\"\n    total = sum(counts.values()) * 1.0\n    probs = {}\n    for lbl in counts.keys():\n        probs[lbl] = str(round(counts[lbl] / total * 100, 3)) + \"%\"\n    return probs",
      "execution_count": 18,
      "outputs": []
    },
    {
      "metadata": {},
      "cell_type": "markdown",
      "source": "# Testing the DecisionTree"
    },
    {
      "metadata": {},
      "cell_type": "markdown",
      "source": "## Iris dataset\nhttps://en.wikipedia.org/wiki/Iris_flower_data_set\n### Data"
    },
    {
      "metadata": {
        "trusted": true,
        "scrolled": true
      },
      "cell_type": "code",
      "source": "iris = sns.load_dataset('iris')\niris.head(3)",
      "execution_count": 7,
      "outputs": [
        {
          "output_type": "execute_result",
          "execution_count": 7,
          "data": {
            "text/html": "<div>\n<style scoped>\n    .dataframe tbody tr th:only-of-type {\n        vertical-align: middle;\n    }\n\n    .dataframe tbody tr th {\n        vertical-align: top;\n    }\n\n    .dataframe thead th {\n        text-align: right;\n    }\n</style>\n<table border=\"1\" class=\"dataframe\">\n  <thead>\n    <tr style=\"text-align: right;\">\n      <th></th>\n      <th>sepal_length</th>\n      <th>sepal_width</th>\n      <th>petal_length</th>\n      <th>petal_width</th>\n      <th>species</th>\n    </tr>\n  </thead>\n  <tbody>\n    <tr>\n      <th>0</th>\n      <td>5.1</td>\n      <td>3.5</td>\n      <td>1.4</td>\n      <td>0.2</td>\n      <td>setosa</td>\n    </tr>\n    <tr>\n      <th>1</th>\n      <td>4.9</td>\n      <td>3.0</td>\n      <td>1.4</td>\n      <td>0.2</td>\n      <td>setosa</td>\n    </tr>\n    <tr>\n      <th>2</th>\n      <td>4.7</td>\n      <td>3.2</td>\n      <td>1.3</td>\n      <td>0.2</td>\n      <td>setosa</td>\n    </tr>\n  </tbody>\n</table>\n</div>",
            "text/plain": "   sepal_length  sepal_width  petal_length  petal_width species\n0           5.1          3.5           1.4          0.2  setosa\n1           4.9          3.0           1.4          0.2  setosa\n2           4.7          3.2           1.3          0.2  setosa"
          },
          "metadata": {}
        }
      ]
    },
    {
      "metadata": {
        "trusted": true
      },
      "cell_type": "code",
      "source": "iris.tail(3)",
      "execution_count": 8,
      "outputs": [
        {
          "output_type": "execute_result",
          "execution_count": 8,
          "data": {
            "text/html": "<div>\n<style scoped>\n    .dataframe tbody tr th:only-of-type {\n        vertical-align: middle;\n    }\n\n    .dataframe tbody tr th {\n        vertical-align: top;\n    }\n\n    .dataframe thead th {\n        text-align: right;\n    }\n</style>\n<table border=\"1\" class=\"dataframe\">\n  <thead>\n    <tr style=\"text-align: right;\">\n      <th></th>\n      <th>sepal_length</th>\n      <th>sepal_width</th>\n      <th>petal_length</th>\n      <th>petal_width</th>\n      <th>species</th>\n    </tr>\n  </thead>\n  <tbody>\n    <tr>\n      <th>147</th>\n      <td>6.5</td>\n      <td>3.0</td>\n      <td>5.2</td>\n      <td>2.0</td>\n      <td>virginica</td>\n    </tr>\n    <tr>\n      <th>148</th>\n      <td>6.2</td>\n      <td>3.4</td>\n      <td>5.4</td>\n      <td>2.3</td>\n      <td>virginica</td>\n    </tr>\n    <tr>\n      <th>149</th>\n      <td>5.9</td>\n      <td>3.0</td>\n      <td>5.1</td>\n      <td>1.8</td>\n      <td>virginica</td>\n    </tr>\n  </tbody>\n</table>\n</div>",
            "text/plain": "     sepal_length  sepal_width  petal_length  petal_width    species\n147           6.5          3.0           5.2          2.0  virginica\n148           6.2          3.4           5.4          2.3  virginica\n149           5.9          3.0           5.1          1.8  virginica"
          },
          "metadata": {}
        }
      ]
    },
    {
      "metadata": {
        "trusted": true
      },
      "cell_type": "code",
      "source": "iris.info()",
      "execution_count": 9,
      "outputs": [
        {
          "output_type": "stream",
          "text": "<class 'pandas.core.frame.DataFrame'>\nRangeIndex: 150 entries, 0 to 149\nData columns (total 5 columns):\nsepal_length    150 non-null float64\nsepal_width     150 non-null float64\npetal_length    150 non-null float64\npetal_width     150 non-null float64\nspecies         150 non-null object\ndtypes: float64(4), object(1)\nmemory usage: 5.9+ KB\n",
          "name": "stdout"
        }
      ]
    },
    {
      "metadata": {
        "trusted": true
      },
      "cell_type": "code",
      "source": "iris.isna().sum()",
      "execution_count": 10,
      "outputs": [
        {
          "output_type": "execute_result",
          "execution_count": 10,
          "data": {
            "text/plain": "sepal_length    0\nsepal_width     0\npetal_length    0\npetal_width     0\nspecies         0\ndtype: int64"
          },
          "metadata": {}
        }
      ]
    },
    {
      "metadata": {
        "trusted": true
      },
      "cell_type": "code",
      "source": "iris.species.unique()",
      "execution_count": 11,
      "outputs": [
        {
          "output_type": "execute_result",
          "execution_count": 11,
          "data": {
            "text/plain": "array(['setosa', 'versicolor', 'virginica'], dtype=object)"
          },
          "metadata": {}
        }
      ]
    },
    {
      "metadata": {
        "trusted": true
      },
      "cell_type": "code",
      "source": "# split iris dataset\nX_iris_train, X_iris_test, y_iris_train, y_iris_test = train_test_split(iris.drop('species', axis=1), iris.species)",
      "execution_count": 12,
      "outputs": []
    },
    {
      "metadata": {
        "trusted": true
      },
      "cell_type": "code",
      "source": "X_iris_test.head(3)",
      "execution_count": 13,
      "outputs": [
        {
          "output_type": "execute_result",
          "execution_count": 13,
          "data": {
            "text/html": "<div>\n<style scoped>\n    .dataframe tbody tr th:only-of-type {\n        vertical-align: middle;\n    }\n\n    .dataframe tbody tr th {\n        vertical-align: top;\n    }\n\n    .dataframe thead th {\n        text-align: right;\n    }\n</style>\n<table border=\"1\" class=\"dataframe\">\n  <thead>\n    <tr style=\"text-align: right;\">\n      <th></th>\n      <th>sepal_length</th>\n      <th>sepal_width</th>\n      <th>petal_length</th>\n      <th>petal_width</th>\n    </tr>\n  </thead>\n  <tbody>\n    <tr>\n      <th>118</th>\n      <td>7.7</td>\n      <td>2.6</td>\n      <td>6.9</td>\n      <td>2.3</td>\n    </tr>\n    <tr>\n      <th>36</th>\n      <td>5.5</td>\n      <td>3.5</td>\n      <td>1.3</td>\n      <td>0.2</td>\n    </tr>\n    <tr>\n      <th>102</th>\n      <td>7.1</td>\n      <td>3.0</td>\n      <td>5.9</td>\n      <td>2.1</td>\n    </tr>\n  </tbody>\n</table>\n</div>",
            "text/plain": "     sepal_length  sepal_width  petal_length  petal_width\n118           7.7          2.6           6.9          2.3\n36            5.5          3.5           1.3          0.2\n102           7.1          3.0           5.9          2.1"
          },
          "metadata": {}
        }
      ]
    },
    {
      "metadata": {},
      "cell_type": "markdown",
      "source": "### Iris: predict and compare"
    },
    {
      "metadata": {
        "trusted": true
      },
      "cell_type": "code",
      "source": "X_iris_train['species'] = y_iris_train\nX_iris_train.head(3)",
      "execution_count": 14,
      "outputs": [
        {
          "output_type": "execute_result",
          "execution_count": 14,
          "data": {
            "text/html": "<div>\n<style scoped>\n    .dataframe tbody tr th:only-of-type {\n        vertical-align: middle;\n    }\n\n    .dataframe tbody tr th {\n        vertical-align: top;\n    }\n\n    .dataframe thead th {\n        text-align: right;\n    }\n</style>\n<table border=\"1\" class=\"dataframe\">\n  <thead>\n    <tr style=\"text-align: right;\">\n      <th></th>\n      <th>sepal_length</th>\n      <th>sepal_width</th>\n      <th>petal_length</th>\n      <th>petal_width</th>\n      <th>species</th>\n    </tr>\n  </thead>\n  <tbody>\n    <tr>\n      <th>125</th>\n      <td>7.2</td>\n      <td>3.2</td>\n      <td>6.0</td>\n      <td>1.8</td>\n      <td>virginica</td>\n    </tr>\n    <tr>\n      <th>2</th>\n      <td>4.7</td>\n      <td>3.2</td>\n      <td>1.3</td>\n      <td>0.2</td>\n      <td>setosa</td>\n    </tr>\n    <tr>\n      <th>129</th>\n      <td>7.2</td>\n      <td>3.0</td>\n      <td>5.8</td>\n      <td>1.6</td>\n      <td>virginica</td>\n    </tr>\n  </tbody>\n</table>\n</div>",
            "text/plain": "     sepal_length  sepal_width  petal_length  petal_width    species\n125           7.2          3.2           6.0          1.8  virginica\n2             4.7          3.2           1.3          0.2     setosa\n129           7.2          3.0           5.8          1.6  virginica"
          },
          "metadata": {}
        }
      ]
    },
    {
      "metadata": {
        "trusted": true
      },
      "cell_type": "code",
      "source": "headers = list(iris.columns)\nheaders",
      "execution_count": 15,
      "outputs": [
        {
          "output_type": "execute_result",
          "execution_count": 15,
          "data": {
            "text/plain": "['sepal_length', 'sepal_width', 'petal_length', 'petal_width', 'species']"
          },
          "metadata": {}
        }
      ]
    },
    {
      "metadata": {
        "trusted": true
      },
      "cell_type": "code",
      "source": "my_tree = DecisionTree(max_depth=3)\nfitted3 = my_tree.fit(X_iris_train)\nfitted3.print_tree(fitted3)",
      "execution_count": 16,
      "outputs": [
        {
          "output_type": "stream",
          "text": "Is petal_length >= 3.0?\n--> True:\n  Is petal_length >= 4.8?\n  --> True:\n    PREDICT {'virginica': 36, 'versicolor': 4}\n  --> False:\n    PREDICT {'versicolor': 34}\n--> False:\n  PREDICT {'setosa': 38}\n",
          "name": "stdout"
        }
      ]
    },
    {
      "metadata": {
        "trusted": true,
        "scrolled": false
      },
      "cell_type": "code",
      "source": "predictions3 = predict(fitted3, X_iris_test)\npredictions3",
      "execution_count": 19,
      "outputs": [
        {
          "output_type": "execute_result",
          "execution_count": 19,
          "data": {
            "text/plain": "['virginica',\n 'setosa',\n 'virginica',\n 'setosa',\n 'versicolor',\n 'setosa',\n 'setosa',\n 'setosa',\n 'virginica',\n 'setosa',\n 'virginica',\n 'versicolor',\n 'virginica',\n 'virginica',\n 'virginica',\n 'versicolor',\n 'versicolor',\n 'virginica',\n 'versicolor',\n 'versicolor',\n 'setosa',\n 'versicolor',\n 'versicolor',\n 'virginica',\n 'setosa',\n 'virginica',\n 'virginica',\n 'virginica',\n 'virginica',\n 'setosa',\n 'virginica',\n 'versicolor',\n 'setosa',\n 'virginica',\n 'setosa',\n 'setosa',\n 'versicolor',\n 'versicolor']"
          },
          "metadata": {}
        }
      ]
    },
    {
      "metadata": {
        "trusted": true
      },
      "cell_type": "code",
      "source": "score(list(y_iris_test), predictions3)",
      "execution_count": 20,
      "outputs": [
        {
          "output_type": "execute_result",
          "execution_count": 20,
          "data": {
            "text/plain": "(0.9210526315789473, [4, 12, 23])"
          },
          "metadata": {}
        }
      ]
    },
    {
      "metadata": {},
      "cell_type": "markdown",
      "source": "### Iris: Real DT"
    },
    {
      "metadata": {
        "trusted": true
      },
      "cell_type": "code",
      "source": "dt = DecisionTreeClassifier(max_depth=3)\ndt.fit(X_iris_train.drop('species', axis=1), y_iris_train)",
      "execution_count": 21,
      "outputs": [
        {
          "output_type": "execute_result",
          "execution_count": 21,
          "data": {
            "text/plain": "DecisionTreeClassifier(class_weight=None, criterion='gini', max_depth=3,\n            max_features=None, max_leaf_nodes=None,\n            min_impurity_decrease=0.0, min_impurity_split=None,\n            min_samples_leaf=1, min_samples_split=2,\n            min_weight_fraction_leaf=0.0, presort=False, random_state=None,\n            splitter='best')"
          },
          "metadata": {}
        }
      ]
    },
    {
      "metadata": {
        "trusted": true
      },
      "cell_type": "code",
      "source": "score(list(y_iris_test), dt.predict(X_iris_test))",
      "execution_count": 22,
      "outputs": [
        {
          "output_type": "execute_result",
          "execution_count": 22,
          "data": {
            "text/plain": "(0.8947368421052632, [4, 12, 13, 23])"
          },
          "metadata": {}
        }
      ]
    },
    {
      "metadata": {
        "trusted": true
      },
      "cell_type": "code",
      "source": "accuracy_score(y_iris_test, dt.predict(X_iris_test))",
      "execution_count": 23,
      "outputs": [
        {
          "output_type": "execute_result",
          "execution_count": 23,
          "data": {
            "text/plain": "0.8947368421052632"
          },
          "metadata": {}
        }
      ]
    },
    {
      "metadata": {},
      "cell_type": "markdown",
      "source": "## Churn dataset\n### Data"
    },
    {
      "metadata": {
        "trusted": true
      },
      "cell_type": "code",
      "source": "df = pd.read_csv('data/telecom_churn.csv', sep=',')\ndf.drop('State', axis=1, inplace=True)\ndf.head(3)",
      "execution_count": 24,
      "outputs": [
        {
          "output_type": "execute_result",
          "execution_count": 24,
          "data": {
            "text/html": "<div>\n<style scoped>\n    .dataframe tbody tr th:only-of-type {\n        vertical-align: middle;\n    }\n\n    .dataframe tbody tr th {\n        vertical-align: top;\n    }\n\n    .dataframe thead th {\n        text-align: right;\n    }\n</style>\n<table border=\"1\" class=\"dataframe\">\n  <thead>\n    <tr style=\"text-align: right;\">\n      <th></th>\n      <th>Account length</th>\n      <th>Area code</th>\n      <th>International plan</th>\n      <th>Voice mail plan</th>\n      <th>Number vmail messages</th>\n      <th>Total day minutes</th>\n      <th>Total day calls</th>\n      <th>Total day charge</th>\n      <th>Total eve minutes</th>\n      <th>Total eve calls</th>\n      <th>Total eve charge</th>\n      <th>Total night minutes</th>\n      <th>Total night calls</th>\n      <th>Total night charge</th>\n      <th>Total intl minutes</th>\n      <th>Total intl calls</th>\n      <th>Total intl charge</th>\n      <th>Customer service calls</th>\n      <th>Churn</th>\n    </tr>\n  </thead>\n  <tbody>\n    <tr>\n      <th>0</th>\n      <td>128</td>\n      <td>415</td>\n      <td>No</td>\n      <td>Yes</td>\n      <td>25</td>\n      <td>265.1</td>\n      <td>110</td>\n      <td>45.07</td>\n      <td>197.4</td>\n      <td>99</td>\n      <td>16.78</td>\n      <td>244.7</td>\n      <td>91</td>\n      <td>11.01</td>\n      <td>10.0</td>\n      <td>3</td>\n      <td>2.70</td>\n      <td>1</td>\n      <td>False</td>\n    </tr>\n    <tr>\n      <th>1</th>\n      <td>107</td>\n      <td>415</td>\n      <td>No</td>\n      <td>Yes</td>\n      <td>26</td>\n      <td>161.6</td>\n      <td>123</td>\n      <td>27.47</td>\n      <td>195.5</td>\n      <td>103</td>\n      <td>16.62</td>\n      <td>254.4</td>\n      <td>103</td>\n      <td>11.45</td>\n      <td>13.7</td>\n      <td>3</td>\n      <td>3.70</td>\n      <td>1</td>\n      <td>False</td>\n    </tr>\n    <tr>\n      <th>2</th>\n      <td>137</td>\n      <td>415</td>\n      <td>No</td>\n      <td>No</td>\n      <td>0</td>\n      <td>243.4</td>\n      <td>114</td>\n      <td>41.38</td>\n      <td>121.2</td>\n      <td>110</td>\n      <td>10.30</td>\n      <td>162.6</td>\n      <td>104</td>\n      <td>7.32</td>\n      <td>12.2</td>\n      <td>5</td>\n      <td>3.29</td>\n      <td>0</td>\n      <td>False</td>\n    </tr>\n  </tbody>\n</table>\n</div>",
            "text/plain": "   Account length  Area code International plan Voice mail plan  \\\n0             128        415                 No             Yes   \n1             107        415                 No             Yes   \n2             137        415                 No              No   \n\n   Number vmail messages  Total day minutes  Total day calls  \\\n0                     25              265.1              110   \n1                     26              161.6              123   \n2                      0              243.4              114   \n\n   Total day charge  Total eve minutes  Total eve calls  Total eve charge  \\\n0             45.07              197.4               99             16.78   \n1             27.47              195.5              103             16.62   \n2             41.38              121.2              110             10.30   \n\n   Total night minutes  Total night calls  Total night charge  \\\n0                244.7                 91               11.01   \n1                254.4                103               11.45   \n2                162.6                104                7.32   \n\n   Total intl minutes  Total intl calls  Total intl charge  \\\n0                10.0                 3               2.70   \n1                13.7                 3               3.70   \n2                12.2                 5               3.29   \n\n   Customer service calls  Churn  \n0                       1  False  \n1                       1  False  \n2                       0  False  "
          },
          "metadata": {}
        }
      ]
    },
    {
      "metadata": {
        "trusted": true
      },
      "cell_type": "code",
      "source": "df.shape",
      "execution_count": 25,
      "outputs": [
        {
          "output_type": "execute_result",
          "execution_count": 25,
          "data": {
            "text/plain": "(3333, 19)"
          },
          "metadata": {}
        }
      ]
    },
    {
      "metadata": {
        "trusted": true
      },
      "cell_type": "code",
      "source": "df['International plan'] = df['International plan'].map(dict(Yes=1, No=0))\ndf['Voice mail plan'] = df['Voice mail plan'].map(dict(Yes=1, No=0))\ndf.head(3)",
      "execution_count": 26,
      "outputs": [
        {
          "output_type": "execute_result",
          "execution_count": 26,
          "data": {
            "text/html": "<div>\n<style scoped>\n    .dataframe tbody tr th:only-of-type {\n        vertical-align: middle;\n    }\n\n    .dataframe tbody tr th {\n        vertical-align: top;\n    }\n\n    .dataframe thead th {\n        text-align: right;\n    }\n</style>\n<table border=\"1\" class=\"dataframe\">\n  <thead>\n    <tr style=\"text-align: right;\">\n      <th></th>\n      <th>Account length</th>\n      <th>Area code</th>\n      <th>International plan</th>\n      <th>Voice mail plan</th>\n      <th>Number vmail messages</th>\n      <th>Total day minutes</th>\n      <th>Total day calls</th>\n      <th>Total day charge</th>\n      <th>Total eve minutes</th>\n      <th>Total eve calls</th>\n      <th>Total eve charge</th>\n      <th>Total night minutes</th>\n      <th>Total night calls</th>\n      <th>Total night charge</th>\n      <th>Total intl minutes</th>\n      <th>Total intl calls</th>\n      <th>Total intl charge</th>\n      <th>Customer service calls</th>\n      <th>Churn</th>\n    </tr>\n  </thead>\n  <tbody>\n    <tr>\n      <th>0</th>\n      <td>128</td>\n      <td>415</td>\n      <td>0</td>\n      <td>1</td>\n      <td>25</td>\n      <td>265.1</td>\n      <td>110</td>\n      <td>45.07</td>\n      <td>197.4</td>\n      <td>99</td>\n      <td>16.78</td>\n      <td>244.7</td>\n      <td>91</td>\n      <td>11.01</td>\n      <td>10.0</td>\n      <td>3</td>\n      <td>2.70</td>\n      <td>1</td>\n      <td>False</td>\n    </tr>\n    <tr>\n      <th>1</th>\n      <td>107</td>\n      <td>415</td>\n      <td>0</td>\n      <td>1</td>\n      <td>26</td>\n      <td>161.6</td>\n      <td>123</td>\n      <td>27.47</td>\n      <td>195.5</td>\n      <td>103</td>\n      <td>16.62</td>\n      <td>254.4</td>\n      <td>103</td>\n      <td>11.45</td>\n      <td>13.7</td>\n      <td>3</td>\n      <td>3.70</td>\n      <td>1</td>\n      <td>False</td>\n    </tr>\n    <tr>\n      <th>2</th>\n      <td>137</td>\n      <td>415</td>\n      <td>0</td>\n      <td>0</td>\n      <td>0</td>\n      <td>243.4</td>\n      <td>114</td>\n      <td>41.38</td>\n      <td>121.2</td>\n      <td>110</td>\n      <td>10.30</td>\n      <td>162.6</td>\n      <td>104</td>\n      <td>7.32</td>\n      <td>12.2</td>\n      <td>5</td>\n      <td>3.29</td>\n      <td>0</td>\n      <td>False</td>\n    </tr>\n  </tbody>\n</table>\n</div>",
            "text/plain": "   Account length  Area code  International plan  Voice mail plan  \\\n0             128        415                   0                1   \n1             107        415                   0                1   \n2             137        415                   0                0   \n\n   Number vmail messages  Total day minutes  Total day calls  \\\n0                     25              265.1              110   \n1                     26              161.6              123   \n2                      0              243.4              114   \n\n   Total day charge  Total eve minutes  Total eve calls  Total eve charge  \\\n0             45.07              197.4               99             16.78   \n1             27.47              195.5              103             16.62   \n2             41.38              121.2              110             10.30   \n\n   Total night minutes  Total night calls  Total night charge  \\\n0                244.7                 91               11.01   \n1                254.4                103               11.45   \n2                162.6                104                7.32   \n\n   Total intl minutes  Total intl calls  Total intl charge  \\\n0                10.0                 3               2.70   \n1                13.7                 3               3.70   \n2                12.2                 5               3.29   \n\n   Customer service calls  Churn  \n0                       1  False  \n1                       1  False  \n2                       0  False  "
          },
          "metadata": {}
        }
      ]
    },
    {
      "metadata": {
        "trusted": true
      },
      "cell_type": "code",
      "source": "X_train, X_test, y_train, y_test = train_test_split(df.drop('Churn', axis=1), df.Churn)",
      "execution_count": 27,
      "outputs": []
    },
    {
      "metadata": {
        "trusted": true
      },
      "cell_type": "code",
      "source": "X_train.shape[0], X_test.shape[0], y_train.shape[0], y_test.shape[0]",
      "execution_count": 28,
      "outputs": [
        {
          "output_type": "execute_result",
          "execution_count": 28,
          "data": {
            "text/plain": "(2499, 834, 2499, 834)"
          },
          "metadata": {}
        }
      ]
    },
    {
      "metadata": {
        "trusted": true
      },
      "cell_type": "code",
      "source": "X_test.head(3)",
      "execution_count": 29,
      "outputs": [
        {
          "output_type": "execute_result",
          "execution_count": 29,
          "data": {
            "text/html": "<div>\n<style scoped>\n    .dataframe tbody tr th:only-of-type {\n        vertical-align: middle;\n    }\n\n    .dataframe tbody tr th {\n        vertical-align: top;\n    }\n\n    .dataframe thead th {\n        text-align: right;\n    }\n</style>\n<table border=\"1\" class=\"dataframe\">\n  <thead>\n    <tr style=\"text-align: right;\">\n      <th></th>\n      <th>Account length</th>\n      <th>Area code</th>\n      <th>International plan</th>\n      <th>Voice mail plan</th>\n      <th>Number vmail messages</th>\n      <th>Total day minutes</th>\n      <th>Total day calls</th>\n      <th>Total day charge</th>\n      <th>Total eve minutes</th>\n      <th>Total eve calls</th>\n      <th>Total eve charge</th>\n      <th>Total night minutes</th>\n      <th>Total night calls</th>\n      <th>Total night charge</th>\n      <th>Total intl minutes</th>\n      <th>Total intl calls</th>\n      <th>Total intl charge</th>\n      <th>Customer service calls</th>\n    </tr>\n  </thead>\n  <tbody>\n    <tr>\n      <th>1746</th>\n      <td>60</td>\n      <td>408</td>\n      <td>0</td>\n      <td>0</td>\n      <td>0</td>\n      <td>179.3</td>\n      <td>147</td>\n      <td>30.48</td>\n      <td>208.9</td>\n      <td>89</td>\n      <td>17.76</td>\n      <td>248.2</td>\n      <td>98</td>\n      <td>11.17</td>\n      <td>13.5</td>\n      <td>6</td>\n      <td>3.65</td>\n      <td>1</td>\n    </tr>\n    <tr>\n      <th>2230</th>\n      <td>109</td>\n      <td>510</td>\n      <td>1</td>\n      <td>0</td>\n      <td>0</td>\n      <td>209.1</td>\n      <td>141</td>\n      <td>35.55</td>\n      <td>205.0</td>\n      <td>93</td>\n      <td>17.43</td>\n      <td>119.4</td>\n      <td>111</td>\n      <td>5.37</td>\n      <td>7.8</td>\n      <td>3</td>\n      <td>2.11</td>\n      <td>2</td>\n    </tr>\n    <tr>\n      <th>2977</th>\n      <td>132</td>\n      <td>408</td>\n      <td>0</td>\n      <td>0</td>\n      <td>0</td>\n      <td>195.1</td>\n      <td>100</td>\n      <td>33.17</td>\n      <td>148.8</td>\n      <td>95</td>\n      <td>12.65</td>\n      <td>224.5</td>\n      <td>117</td>\n      <td>10.10</td>\n      <td>6.7</td>\n      <td>2</td>\n      <td>1.81</td>\n      <td>0</td>\n    </tr>\n  </tbody>\n</table>\n</div>",
            "text/plain": "      Account length  Area code  International plan  Voice mail plan  \\\n1746              60        408                   0                0   \n2230             109        510                   1                0   \n2977             132        408                   0                0   \n\n      Number vmail messages  Total day minutes  Total day calls  \\\n1746                      0              179.3              147   \n2230                      0              209.1              141   \n2977                      0              195.1              100   \n\n      Total day charge  Total eve minutes  Total eve calls  Total eve charge  \\\n1746             30.48              208.9               89             17.76   \n2230             35.55              205.0               93             17.43   \n2977             33.17              148.8               95             12.65   \n\n      Total night minutes  Total night calls  Total night charge  \\\n1746                248.2                 98               11.17   \n2230                119.4                111                5.37   \n2977                224.5                117               10.10   \n\n      Total intl minutes  Total intl calls  Total intl charge  \\\n1746                13.5                 6               3.65   \n2230                 7.8                 3               2.11   \n2977                 6.7                 2               1.81   \n\n      Customer service calls  \n1746                       1  \n2230                       2  \n2977                       0  "
          },
          "metadata": {}
        }
      ]
    },
    {
      "metadata": {},
      "cell_type": "markdown",
      "source": "### Churn: predict and compare"
    },
    {
      "metadata": {
        "trusted": true
      },
      "cell_type": "code",
      "source": "X_train['Churn'] = y_train",
      "execution_count": 30,
      "outputs": []
    },
    {
      "metadata": {
        "trusted": true
      },
      "cell_type": "code",
      "source": "headers = list(df.columns)\nheaders",
      "execution_count": 31,
      "outputs": [
        {
          "output_type": "execute_result",
          "execution_count": 31,
          "data": {
            "text/plain": "['Account length',\n 'Area code',\n 'International plan',\n 'Voice mail plan',\n 'Number vmail messages',\n 'Total day minutes',\n 'Total day calls',\n 'Total day charge',\n 'Total eve minutes',\n 'Total eve calls',\n 'Total eve charge',\n 'Total night minutes',\n 'Total night calls',\n 'Total night charge',\n 'Total intl minutes',\n 'Total intl calls',\n 'Total intl charge',\n 'Customer service calls',\n 'Churn']"
          },
          "metadata": {}
        }
      ]
    },
    {
      "metadata": {
        "trusted": true
      },
      "cell_type": "code",
      "source": "%%time\nmy_tree = DecisionTree(max_depth=7)\nfitted4 = my_tree.fit(X_train)\nfitted4.print_tree(fitted4)",
      "execution_count": 32,
      "outputs": [
        {
          "output_type": "stream",
          "text": "Is Total day minutes >= 263.7?\n--> True:\n  Is Voice mail plan >= 1?\n  --> True:\n    Is International plan >= 1?\n    --> True:\n      Is Account length >= 60?\n      --> True:\n        PREDICT {True: 3}\n      --> False:\n        PREDICT {False: 1}\n    --> False:\n      PREDICT {False: 38}\n  --> False:\n    PREDICT {True: 101, False: 24}\n--> False:\n  PREDICT {False: 2062, True: 270}\nCPU times: user 24.9 s, sys: 0 ns, total: 24.9 s\nWall time: 24.9 s\n",
          "name": "stdout"
        }
      ]
    },
    {
      "metadata": {
        "trusted": true
      },
      "cell_type": "code",
      "source": "predictions4 = predict(fitted4, X_test)\npredictions4[:10]",
      "execution_count": 33,
      "outputs": [
        {
          "output_type": "execute_result",
          "execution_count": 33,
          "data": {
            "text/plain": "[False, False, False, True, True, False, False, True, False, False]"
          },
          "metadata": {}
        }
      ]
    },
    {
      "metadata": {
        "trusted": true,
        "scrolled": true
      },
      "cell_type": "code",
      "source": "score, idxs = score(list(y_test), predictions4)\nscore, len(idxs)",
      "execution_count": 34,
      "outputs": [
        {
          "output_type": "execute_result",
          "execution_count": 34,
          "data": {
            "text/plain": "(0.8776978417266187, 102)"
          },
          "metadata": {}
        }
      ]
    },
    {
      "metadata": {
        "trusted": true
      },
      "cell_type": "code",
      "source": "accuracy_score(y_test, predictions4)",
      "execution_count": 35,
      "outputs": [
        {
          "output_type": "execute_result",
          "execution_count": 35,
          "data": {
            "text/plain": "0.8776978417266187"
          },
          "metadata": {}
        }
      ]
    },
    {
      "metadata": {},
      "cell_type": "markdown",
      "source": "### Churn: real DT"
    },
    {
      "metadata": {
        "trusted": true
      },
      "cell_type": "code",
      "source": "dtt = DecisionTreeClassifier(max_depth=7)\ndtt.fit(X_train.drop('Churn', axis=1), y_train)",
      "execution_count": 36,
      "outputs": [
        {
          "output_type": "execute_result",
          "execution_count": 36,
          "data": {
            "text/plain": "DecisionTreeClassifier(class_weight=None, criterion='gini', max_depth=7,\n            max_features=None, max_leaf_nodes=None,\n            min_impurity_decrease=0.0, min_impurity_split=None,\n            min_samples_leaf=1, min_samples_split=2,\n            min_weight_fraction_leaf=0.0, presort=False, random_state=None,\n            splitter='best')"
          },
          "metadata": {}
        }
      ]
    },
    {
      "metadata": {
        "trusted": true,
        "scrolled": true
      },
      "cell_type": "code",
      "source": "accuracy_score(y_test, dtt.predict(X_test))",
      "execution_count": 37,
      "outputs": [
        {
          "output_type": "execute_result",
          "execution_count": 37,
          "data": {
            "text/plain": "0.947242206235012"
          },
          "metadata": {}
        }
      ]
    }
  ],
  "metadata": {
    "kernelspec": {
      "name": "python36",
      "display_name": "Python 3.6",
      "language": "python"
    },
    "language_info": {
      "mimetype": "text/x-python",
      "nbconvert_exporter": "python",
      "name": "python",
      "pygments_lexer": "ipython3",
      "version": "3.6.6",
      "file_extension": ".py",
      "codemirror_mode": {
        "version": 3,
        "name": "ipython"
      }
    },
    "toc": {
      "nav_menu": {},
      "number_sections": false,
      "sideBar": true,
      "skip_h1_title": false,
      "base_numbering": 1,
      "title_cell": "Table of Contents",
      "title_sidebar": "Contents",
      "toc_cell": false,
      "toc_position": {},
      "toc_section_display": true,
      "toc_window_display": false
    }
  },
  "nbformat": 4,
  "nbformat_minor": 2
}