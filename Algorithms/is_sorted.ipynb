{
  "cells": [
    {
      "metadata": {},
      "cell_type": "markdown",
      "source": "Check of a linked list is sorted:"
    },
    {
      "metadata": {
        "trusted": true
      },
      "cell_type": "code",
      "source": "linkedlist <- function(lst) {\n    linkedlist <- list()\n    \n    for (i in seq(1, length(lst))) {\n        pair <- tryCatch({\n            list('value'=lst[[i]], 'link'=lst[[i+1]])\n        }, error = function(e) {\n            pair <- list('value'=lst[[i]], 'link'=NA)\n        })\n        linkedlist[[i]] <- pair\n    }\n    return(linkedlist)\n}\n\n\nnex <- function(lst, i) {\n    res <- tryCatch({\n        lst[[i+1]]\n    }, error = function(e) {\n        return(NULL)\n    })\n    return(res)\n}\n\n\nhead <- function(ll) {\n    return(ll[[1]])\n}",
      "execution_count": 1,
      "outputs": []
    },
    {
      "metadata": {
        "trusted": true
      },
      "cell_type": "code",
      "source": "is_sorted <- function(lst) {\n    current <- head(lst)\n\n    if (is.null(current$link)) {\n        return('Sorted')\n    }\n\n    for (i in 1:length(lst)-1) {\n        if (current$value > current$link) {\n            return('Not sorted')\n        }\n        current <- nex(lst, i)\n    }\n\n    return('Sorted')\n}",
      "execution_count": 8,
      "outputs": []
    },
    {
      "metadata": {},
      "cell_type": "markdown",
      "source": "Examples:"
    },
    {
      "metadata": {
        "trusted": true
      },
      "cell_type": "code",
      "source": "lst1 <- list(1, 2, 3, 4, 5, 6, 7, 8, 9)\nlst2 <- list(10, 17, 3, 5, 20, 21, 12)",
      "execution_count": 3,
      "outputs": []
    },
    {
      "metadata": {
        "trusted": true
      },
      "cell_type": "code",
      "source": "L1 <- linkedlist(lst1)\nL2 <- linkedlist(lst2)",
      "execution_count": 4,
      "outputs": []
    },
    {
      "metadata": {
        "trusted": true,
        "scrolled": true
      },
      "cell_type": "code",
      "source": "is_sorted(L1)\nis_sorted(L2)",
      "execution_count": 9,
      "outputs": [
        {
          "output_type": "display_data",
          "data": {
            "text/plain": "[1] \"Sorted\"",
            "text/latex": "'Sorted'",
            "text/markdown": "'Sorted'",
            "text/html": "'Sorted'"
          },
          "metadata": {}
        },
        {
          "output_type": "display_data",
          "data": {
            "text/plain": "[1] \"Not sorted\"",
            "text/latex": "'Not sorted'",
            "text/markdown": "'Not sorted'",
            "text/html": "'Not sorted'"
          },
          "metadata": {}
        }
      ]
    },
    {
      "metadata": {},
      "cell_type": "markdown",
      "source": "Tests:"
    },
    {
      "metadata": {
        "trusted": true
      },
      "cell_type": "code",
      "source": "L1[9]\nL1[[9]]\nL1[[9]][1]\nL1[[9]][[1]]",
      "execution_count": 6,
      "outputs": [
        {
          "output_type": "display_data",
          "data": {
            "text/plain": "[[1]]\n[[1]]$value\n[1] 9\n\n[[1]]$link\n[1] NA\n\n",
            "text/latex": "\\begin{enumerate}\n\\item \\begin{description}\n\\item[\\$value] 9\n\\item[\\$link] <NA>\n\\end{description}\n\n\\end{enumerate}\n",
            "text/markdown": "1. $value\n:   9\n$link\n:   &lt;NA&gt;\n\n\n\n\n\n",
            "text/html": "<ol>\n\t<li><dl>\n\t<dt>$value</dt>\n\t\t<dd>9</dd>\n\t<dt>$link</dt>\n\t\t<dd>&lt;NA&gt;</dd>\n</dl>\n</li>\n</ol>\n"
          },
          "metadata": {}
        },
        {
          "output_type": "display_data",
          "data": {
            "text/plain": "$value\n[1] 9\n\n$link\n[1] NA\n",
            "text/latex": "\\begin{description}\n\\item[\\$value] 9\n\\item[\\$link] <NA>\n\\end{description}\n",
            "text/markdown": "$value\n:   9\n$link\n:   &lt;NA&gt;\n\n\n",
            "text/html": "<dl>\n\t<dt>$value</dt>\n\t\t<dd>9</dd>\n\t<dt>$link</dt>\n\t\t<dd>&lt;NA&gt;</dd>\n</dl>\n"
          },
          "metadata": {}
        },
        {
          "output_type": "display_data",
          "data": {
            "text/plain": "$value\n[1] 9\n",
            "text/latex": "\\textbf{\\$value} = 9",
            "text/markdown": "**$value** = 9",
            "text/html": "<strong>$value</strong> = 9"
          },
          "metadata": {}
        },
        {
          "output_type": "display_data",
          "data": {
            "text/plain": "[1] 9",
            "text/latex": "9",
            "text/markdown": "9",
            "text/html": "9"
          },
          "metadata": {}
        }
      ]
    },
    {
      "metadata": {
        "trusted": true
      },
      "cell_type": "code",
      "source": "L1",
      "execution_count": 7,
      "outputs": [
        {
          "output_type": "display_data",
          "data": {
            "text/plain": "[[1]]\n[[1]]$value\n[1] 1\n\n[[1]]$link\n[1] 2\n\n\n[[2]]\n[[2]]$value\n[1] 2\n\n[[2]]$link\n[1] 3\n\n\n[[3]]\n[[3]]$value\n[1] 3\n\n[[3]]$link\n[1] 4\n\n\n[[4]]\n[[4]]$value\n[1] 4\n\n[[4]]$link\n[1] 5\n\n\n[[5]]\n[[5]]$value\n[1] 5\n\n[[5]]$link\n[1] 6\n\n\n[[6]]\n[[6]]$value\n[1] 6\n\n[[6]]$link\n[1] 7\n\n\n[[7]]\n[[7]]$value\n[1] 7\n\n[[7]]$link\n[1] 8\n\n\n[[8]]\n[[8]]$value\n[1] 8\n\n[[8]]$link\n[1] 9\n\n\n[[9]]\n[[9]]$value\n[1] 9\n\n[[9]]$link\n[1] NA\n\n",
            "text/latex": "\\begin{enumerate}\n\\item \\begin{description}\n\\item[\\$value] 1\n\\item[\\$link] 2\n\\end{description}\n\n\\item \\begin{description}\n\\item[\\$value] 2\n\\item[\\$link] 3\n\\end{description}\n\n\\item \\begin{description}\n\\item[\\$value] 3\n\\item[\\$link] 4\n\\end{description}\n\n\\item \\begin{description}\n\\item[\\$value] 4\n\\item[\\$link] 5\n\\end{description}\n\n\\item \\begin{description}\n\\item[\\$value] 5\n\\item[\\$link] 6\n\\end{description}\n\n\\item \\begin{description}\n\\item[\\$value] 6\n\\item[\\$link] 7\n\\end{description}\n\n\\item \\begin{description}\n\\item[\\$value] 7\n\\item[\\$link] 8\n\\end{description}\n\n\\item \\begin{description}\n\\item[\\$value] 8\n\\item[\\$link] 9\n\\end{description}\n\n\\item \\begin{description}\n\\item[\\$value] 9\n\\item[\\$link] <NA>\n\\end{description}\n\n\\end{enumerate}\n",
            "text/markdown": "1. $value\n:   1\n$link\n:   2\n\n\n\n2. $value\n:   2\n$link\n:   3\n\n\n\n3. $value\n:   3\n$link\n:   4\n\n\n\n4. $value\n:   4\n$link\n:   5\n\n\n\n5. $value\n:   5\n$link\n:   6\n\n\n\n6. $value\n:   6\n$link\n:   7\n\n\n\n7. $value\n:   7\n$link\n:   8\n\n\n\n8. $value\n:   8\n$link\n:   9\n\n\n\n9. $value\n:   9\n$link\n:   &lt;NA&gt;\n\n\n\n\n\n",
            "text/html": "<ol>\n\t<li><dl>\n\t<dt>$value</dt>\n\t\t<dd>1</dd>\n\t<dt>$link</dt>\n\t\t<dd>2</dd>\n</dl>\n</li>\n\t<li><dl>\n\t<dt>$value</dt>\n\t\t<dd>2</dd>\n\t<dt>$link</dt>\n\t\t<dd>3</dd>\n</dl>\n</li>\n\t<li><dl>\n\t<dt>$value</dt>\n\t\t<dd>3</dd>\n\t<dt>$link</dt>\n\t\t<dd>4</dd>\n</dl>\n</li>\n\t<li><dl>\n\t<dt>$value</dt>\n\t\t<dd>4</dd>\n\t<dt>$link</dt>\n\t\t<dd>5</dd>\n</dl>\n</li>\n\t<li><dl>\n\t<dt>$value</dt>\n\t\t<dd>5</dd>\n\t<dt>$link</dt>\n\t\t<dd>6</dd>\n</dl>\n</li>\n\t<li><dl>\n\t<dt>$value</dt>\n\t\t<dd>6</dd>\n\t<dt>$link</dt>\n\t\t<dd>7</dd>\n</dl>\n</li>\n\t<li><dl>\n\t<dt>$value</dt>\n\t\t<dd>7</dd>\n\t<dt>$link</dt>\n\t\t<dd>8</dd>\n</dl>\n</li>\n\t<li><dl>\n\t<dt>$value</dt>\n\t\t<dd>8</dd>\n\t<dt>$link</dt>\n\t\t<dd>9</dd>\n</dl>\n</li>\n\t<li><dl>\n\t<dt>$value</dt>\n\t\t<dd>9</dd>\n\t<dt>$link</dt>\n\t\t<dd>&lt;NA&gt;</dd>\n</dl>\n</li>\n</ol>\n"
          },
          "metadata": {}
        }
      ]
    }
  ],
  "metadata": {
    "kernelspec": {
      "name": "r",
      "display_name": "R",
      "language": "R"
    },
    "language_info": {
      "mimetype": "text/x-r-source",
      "name": "R",
      "pygments_lexer": "r",
      "version": "3.4.1",
      "file_extension": ".r",
      "codemirror_mode": "r"
    }
  },
  "nbformat": 4,
  "nbformat_minor": 2
}