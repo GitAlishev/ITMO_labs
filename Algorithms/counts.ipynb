{
  "cells": [
    {
      "metadata": {},
      "cell_type": "markdown",
      "source": "Letter frequency:"
    },
    {
      "metadata": {
        "trusted": true
      },
      "cell_type": "code",
      "source": "counts <- function(st) {\n    new <- ''\n\n    for (i in 1:nchar(st)) {\n        if (!(grepl(substring(st, i, i), new)) & !(grepl(substring(st, i, i), ' ,.?'))) {\n            new <- paste(new, substring(st, i, i), sep='')\n        }\n    }\n\n    freq <- list()\n    E_shift <- list()\n\n    for (j in 1:nchar(new)) {\n        cnt <- 0\n        for (k in 1:nchar(st)) {\n            if (substring(st, k, k) == substring(new, j, j)) {\n                cnt <- cnt + 1\n            }\n        }\n        \n        shift <- Mod(utf8ToInt('E') - utf8ToInt(substring(new, j, j)))\n\n        freq[substring(new, j, j)] <- round(cnt / nchar(st) * 100, 2)\n        freq <- freq[order(sapply(freq, '[[', 1), decreasing = TRUE)]\n\n        E_shift[substring(new, j, j)] <- shift\n\n    }\n    res <- list('Frequency_percent' = freq, 'E_shift' = E_shift)\n    return(res)\n}",
      "execution_count": 1,
      "outputs": []
    },
    {
      "metadata": {},
      "cell_type": "markdown",
      "source": "Examples:"
    },
    {
      "metadata": {
        "trusted": true
      },
      "cell_type": "code",
      "source": "s1 <- 'ATTACK AT DAWN'\ns2 <- 'NOTHING BUT GIBBERISH'\ns3 <- 'Master the basics of data analysis by manipulating common data structures such as vectors, matrices and data frames.'",
      "execution_count": 2,
      "outputs": []
    },
    {
      "metadata": {
        "trusted": true
      },
      "cell_type": "code",
      "source": "counts(s1)",
      "execution_count": 3,
      "outputs": [
        {
          "output_type": "display_data",
          "data": {
            "text/plain": "$Frequency_percent\n$Frequency_percent$A\n[1] 28.57\n\n$Frequency_percent$T\n[1] 21.43\n\n$Frequency_percent$C\n[1] 7.14\n\n$Frequency_percent$K\n[1] 7.14\n\n$Frequency_percent$D\n[1] 7.14\n\n$Frequency_percent$W\n[1] 7.14\n\n$Frequency_percent$N\n[1] 7.14\n\n\n$E_shift\n$E_shift$A\n[1] 4\n\n$E_shift$T\n[1] 15\n\n$E_shift$C\n[1] 2\n\n$E_shift$K\n[1] 6\n\n$E_shift$D\n[1] 1\n\n$E_shift$W\n[1] 18\n\n$E_shift$N\n[1] 9\n\n",
            "text/latex": "\\begin{description}\n\\item[\\$Frequency\\_percent] \\begin{description}\n\\item[\\$A] 28.57\n\\item[\\$T] 21.43\n\\item[\\$C] 7.14\n\\item[\\$K] 7.14\n\\item[\\$D] 7.14\n\\item[\\$W] 7.14\n\\item[\\$N] 7.14\n\\end{description}\n\n\\item[\\$E\\_shift] \\begin{description}\n\\item[\\$A] 4\n\\item[\\$T] 15\n\\item[\\$C] 2\n\\item[\\$K] 6\n\\item[\\$D] 1\n\\item[\\$W] 18\n\\item[\\$N] 9\n\\end{description}\n\n\\end{description}\n",
            "text/markdown": "$Frequency_percent\n:   $A\n:   28.57\n$T\n:   21.43\n$C\n:   7.14\n$K\n:   7.14\n$D\n:   7.14\n$W\n:   7.14\n$N\n:   7.14\n\n\n\n$E_shift\n:   $A\n:   4\n$T\n:   15\n$C\n:   2\n$K\n:   6\n$D\n:   1\n$W\n:   18\n$N\n:   9\n\n\n\n\n\n",
            "text/html": "<dl>\n\t<dt>$Frequency_percent</dt>\n\t\t<dd><dl>\n\t<dt>$A</dt>\n\t\t<dd>28.57</dd>\n\t<dt>$T</dt>\n\t\t<dd>21.43</dd>\n\t<dt>$C</dt>\n\t\t<dd>7.14</dd>\n\t<dt>$K</dt>\n\t\t<dd>7.14</dd>\n\t<dt>$D</dt>\n\t\t<dd>7.14</dd>\n\t<dt>$W</dt>\n\t\t<dd>7.14</dd>\n\t<dt>$N</dt>\n\t\t<dd>7.14</dd>\n</dl>\n</dd>\n\t<dt>$E_shift</dt>\n\t\t<dd><dl>\n\t<dt>$A</dt>\n\t\t<dd>4</dd>\n\t<dt>$T</dt>\n\t\t<dd>15</dd>\n\t<dt>$C</dt>\n\t\t<dd>2</dd>\n\t<dt>$K</dt>\n\t\t<dd>6</dd>\n\t<dt>$D</dt>\n\t\t<dd>1</dd>\n\t<dt>$W</dt>\n\t\t<dd>18</dd>\n\t<dt>$N</dt>\n\t\t<dd>9</dd>\n</dl>\n</dd>\n</dl>\n"
          },
          "metadata": {}
        }
      ]
    },
    {
      "metadata": {
        "trusted": true
      },
      "cell_type": "code",
      "source": "counts(s2)",
      "execution_count": 4,
      "outputs": [
        {
          "output_type": "display_data",
          "data": {
            "text/plain": "$Frequency_percent\n$Frequency_percent$I\n[1] 14.29\n\n$Frequency_percent$B\n[1] 14.29\n\n$Frequency_percent$N\n[1] 9.52\n\n$Frequency_percent$T\n[1] 9.52\n\n$Frequency_percent$H\n[1] 9.52\n\n$Frequency_percent$G\n[1] 9.52\n\n$Frequency_percent$O\n[1] 4.76\n\n$Frequency_percent$U\n[1] 4.76\n\n$Frequency_percent$E\n[1] 4.76\n\n$Frequency_percent$R\n[1] 4.76\n\n$Frequency_percent$S\n[1] 4.76\n\n\n$E_shift\n$E_shift$N\n[1] 9\n\n$E_shift$O\n[1] 10\n\n$E_shift$T\n[1] 15\n\n$E_shift$H\n[1] 3\n\n$E_shift$I\n[1] 4\n\n$E_shift$G\n[1] 2\n\n$E_shift$B\n[1] 3\n\n$E_shift$U\n[1] 16\n\n$E_shift$E\n[1] 0\n\n$E_shift$R\n[1] 13\n\n$E_shift$S\n[1] 14\n\n",
            "text/latex": "\\begin{description}\n\\item[\\$Frequency\\_percent] \\begin{description}\n\\item[\\$I] 14.29\n\\item[\\$B] 14.29\n\\item[\\$N] 9.52\n\\item[\\$T] 9.52\n\\item[\\$H] 9.52\n\\item[\\$G] 9.52\n\\item[\\$O] 4.76\n\\item[\\$U] 4.76\n\\item[\\$E] 4.76\n\\item[\\$R] 4.76\n\\item[\\$S] 4.76\n\\end{description}\n\n\\item[\\$E\\_shift] \\begin{description}\n\\item[\\$N] 9\n\\item[\\$O] 10\n\\item[\\$T] 15\n\\item[\\$H] 3\n\\item[\\$I] 4\n\\item[\\$G] 2\n\\item[\\$B] 3\n\\item[\\$U] 16\n\\item[\\$E] 0\n\\item[\\$R] 13\n\\item[\\$S] 14\n\\end{description}\n\n\\end{description}\n",
            "text/markdown": "$Frequency_percent\n:   $I\n:   14.29\n$B\n:   14.29\n$N\n:   9.52\n$T\n:   9.52\n$H\n:   9.52\n$G\n:   9.52\n$O\n:   4.76\n$U\n:   4.76\n$E\n:   4.76\n$R\n:   4.76\n$S\n:   4.76\n\n\n\n$E_shift\n:   $N\n:   9\n$O\n:   10\n$T\n:   15\n$H\n:   3\n$I\n:   4\n$G\n:   2\n$B\n:   3\n$U\n:   16\n$E\n:   0\n$R\n:   13\n$S\n:   14\n\n\n\n\n\n",
            "text/html": "<dl>\n\t<dt>$Frequency_percent</dt>\n\t\t<dd><dl>\n\t<dt>$I</dt>\n\t\t<dd>14.29</dd>\n\t<dt>$B</dt>\n\t\t<dd>14.29</dd>\n\t<dt>$N</dt>\n\t\t<dd>9.52</dd>\n\t<dt>$T</dt>\n\t\t<dd>9.52</dd>\n\t<dt>$H</dt>\n\t\t<dd>9.52</dd>\n\t<dt>$G</dt>\n\t\t<dd>9.52</dd>\n\t<dt>$O</dt>\n\t\t<dd>4.76</dd>\n\t<dt>$U</dt>\n\t\t<dd>4.76</dd>\n\t<dt>$E</dt>\n\t\t<dd>4.76</dd>\n\t<dt>$R</dt>\n\t\t<dd>4.76</dd>\n\t<dt>$S</dt>\n\t\t<dd>4.76</dd>\n</dl>\n</dd>\n\t<dt>$E_shift</dt>\n\t\t<dd><dl>\n\t<dt>$N</dt>\n\t\t<dd>9</dd>\n\t<dt>$O</dt>\n\t\t<dd>10</dd>\n\t<dt>$T</dt>\n\t\t<dd>15</dd>\n\t<dt>$H</dt>\n\t\t<dd>3</dd>\n\t<dt>$I</dt>\n\t\t<dd>4</dd>\n\t<dt>$G</dt>\n\t\t<dd>2</dd>\n\t<dt>$B</dt>\n\t\t<dd>3</dd>\n\t<dt>$U</dt>\n\t\t<dd>16</dd>\n\t<dt>$E</dt>\n\t\t<dd>0</dd>\n\t<dt>$R</dt>\n\t\t<dd>13</dd>\n\t<dt>$S</dt>\n\t\t<dd>14</dd>\n</dl>\n</dd>\n</dl>\n"
          },
          "metadata": {}
        }
      ]
    },
    {
      "metadata": {
        "trusted": true
      },
      "cell_type": "code",
      "source": "counts(s3)",
      "execution_count": 5,
      "outputs": [
        {
          "output_type": "display_data",
          "data": {
            "text/plain": "$Frequency_percent\n$Frequency_percent$a\n[1] 13.79\n\n$Frequency_percent$s\n[1] 10.34\n\n$Frequency_percent$t\n[1] 8.62\n\n$Frequency_percent$e\n[1] 5.17\n\n$Frequency_percent$r\n[1] 5.17\n\n$Frequency_percent$c\n[1] 5.17\n\n$Frequency_percent$i\n[1] 4.31\n\n$Frequency_percent$n\n[1] 4.31\n\n$Frequency_percent$m\n[1] 4.31\n\n$Frequency_percent$o\n[1] 3.45\n\n$Frequency_percent$d\n[1] 3.45\n\n$Frequency_percent$u\n[1] 3.45\n\n$Frequency_percent$h\n[1] 1.72\n\n$Frequency_percent$b\n[1] 1.72\n\n$Frequency_percent$f\n[1] 1.72\n\n$Frequency_percent$l\n[1] 1.72\n\n$Frequency_percent$y\n[1] 1.72\n\n$Frequency_percent$M\n[1] 0.86\n\n$Frequency_percent$p\n[1] 0.86\n\n$Frequency_percent$g\n[1] 0.86\n\n$Frequency_percent$v\n[1] 0.86\n\n\n$E_shift\n$E_shift$M\n[1] 8\n\n$E_shift$a\n[1] 28\n\n$E_shift$s\n[1] 46\n\n$E_shift$t\n[1] 47\n\n$E_shift$e\n[1] 32\n\n$E_shift$r\n[1] 45\n\n$E_shift$h\n[1] 35\n\n$E_shift$b\n[1] 29\n\n$E_shift$i\n[1] 36\n\n$E_shift$c\n[1] 30\n\n$E_shift$o\n[1] 42\n\n$E_shift$f\n[1] 33\n\n$E_shift$d\n[1] 31\n\n$E_shift$n\n[1] 41\n\n$E_shift$l\n[1] 39\n\n$E_shift$y\n[1] 52\n\n$E_shift$m\n[1] 40\n\n$E_shift$p\n[1] 43\n\n$E_shift$u\n[1] 48\n\n$E_shift$g\n[1] 34\n\n$E_shift$v\n[1] 49\n\n",
            "text/latex": "\\begin{description}\n\\item[\\$Frequency\\_percent] \\begin{description}\n\\item[\\$a] 13.79\n\\item[\\$s] 10.34\n\\item[\\$t] 8.62\n\\item[\\$e] 5.17\n\\item[\\$r] 5.17\n\\item[\\$c] 5.17\n\\item[\\$i] 4.31\n\\item[\\$n] 4.31\n\\item[\\$m] 4.31\n\\item[\\$o] 3.45\n\\item[\\$d] 3.45\n\\item[\\$u] 3.45\n\\item[\\$h] 1.72\n\\item[\\$b] 1.72\n\\item[\\$f] 1.72\n\\item[\\$l] 1.72\n\\item[\\$y] 1.72\n\\item[\\$M] 0.86\n\\item[\\$p] 0.86\n\\item[\\$g] 0.86\n\\item[\\$v] 0.86\n\\end{description}\n\n\\item[\\$E\\_shift] \\begin{description}\n\\item[\\$M] 8\n\\item[\\$a] 28\n\\item[\\$s] 46\n\\item[\\$t] 47\n\\item[\\$e] 32\n\\item[\\$r] 45\n\\item[\\$h] 35\n\\item[\\$b] 29\n\\item[\\$i] 36\n\\item[\\$c] 30\n\\item[\\$o] 42\n\\item[\\$f] 33\n\\item[\\$d] 31\n\\item[\\$n] 41\n\\item[\\$l] 39\n\\item[\\$y] 52\n\\item[\\$m] 40\n\\item[\\$p] 43\n\\item[\\$u] 48\n\\item[\\$g] 34\n\\item[\\$v] 49\n\\end{description}\n\n\\end{description}\n",
            "text/markdown": "$Frequency_percent\n:   $a\n:   13.79\n$s\n:   10.34\n$t\n:   8.62\n$e\n:   5.17\n$r\n:   5.17\n$c\n:   5.17\n$i\n:   4.31\n$n\n:   4.31\n$m\n:   4.31\n$o\n:   3.45\n$d\n:   3.45\n$u\n:   3.45\n$h\n:   1.72\n$b\n:   1.72\n$f\n:   1.72\n$l\n:   1.72\n$y\n:   1.72\n$M\n:   0.86\n$p\n:   0.86\n$g\n:   0.86\n$v\n:   0.86\n\n\n\n$E_shift\n:   $M\n:   8\n$a\n:   28\n$s\n:   46\n$t\n:   47\n$e\n:   32\n$r\n:   45\n$h\n:   35\n$b\n:   29\n$i\n:   36\n$c\n:   30\n$o\n:   42\n$f\n:   33\n$d\n:   31\n$n\n:   41\n$l\n:   39\n$y\n:   52\n$m\n:   40\n$p\n:   43\n$u\n:   48\n$g\n:   34\n$v\n:   49\n\n\n\n\n\n",
            "text/html": "<dl>\n\t<dt>$Frequency_percent</dt>\n\t\t<dd><dl>\n\t<dt>$a</dt>\n\t\t<dd>13.79</dd>\n\t<dt>$s</dt>\n\t\t<dd>10.34</dd>\n\t<dt>$t</dt>\n\t\t<dd>8.62</dd>\n\t<dt>$e</dt>\n\t\t<dd>5.17</dd>\n\t<dt>$r</dt>\n\t\t<dd>5.17</dd>\n\t<dt>$c</dt>\n\t\t<dd>5.17</dd>\n\t<dt>$i</dt>\n\t\t<dd>4.31</dd>\n\t<dt>$n</dt>\n\t\t<dd>4.31</dd>\n\t<dt>$m</dt>\n\t\t<dd>4.31</dd>\n\t<dt>$o</dt>\n\t\t<dd>3.45</dd>\n\t<dt>$d</dt>\n\t\t<dd>3.45</dd>\n\t<dt>$u</dt>\n\t\t<dd>3.45</dd>\n\t<dt>$h</dt>\n\t\t<dd>1.72</dd>\n\t<dt>$b</dt>\n\t\t<dd>1.72</dd>\n\t<dt>$f</dt>\n\t\t<dd>1.72</dd>\n\t<dt>$l</dt>\n\t\t<dd>1.72</dd>\n\t<dt>$y</dt>\n\t\t<dd>1.72</dd>\n\t<dt>$M</dt>\n\t\t<dd>0.86</dd>\n\t<dt>$p</dt>\n\t\t<dd>0.86</dd>\n\t<dt>$g</dt>\n\t\t<dd>0.86</dd>\n\t<dt>$v</dt>\n\t\t<dd>0.86</dd>\n</dl>\n</dd>\n\t<dt>$E_shift</dt>\n\t\t<dd><dl>\n\t<dt>$M</dt>\n\t\t<dd>8</dd>\n\t<dt>$a</dt>\n\t\t<dd>28</dd>\n\t<dt>$s</dt>\n\t\t<dd>46</dd>\n\t<dt>$t</dt>\n\t\t<dd>47</dd>\n\t<dt>$e</dt>\n\t\t<dd>32</dd>\n\t<dt>$r</dt>\n\t\t<dd>45</dd>\n\t<dt>$h</dt>\n\t\t<dd>35</dd>\n\t<dt>$b</dt>\n\t\t<dd>29</dd>\n\t<dt>$i</dt>\n\t\t<dd>36</dd>\n\t<dt>$c</dt>\n\t\t<dd>30</dd>\n\t<dt>$o</dt>\n\t\t<dd>42</dd>\n\t<dt>$f</dt>\n\t\t<dd>33</dd>\n\t<dt>$d</dt>\n\t\t<dd>31</dd>\n\t<dt>$n</dt>\n\t\t<dd>41</dd>\n\t<dt>$l</dt>\n\t\t<dd>39</dd>\n\t<dt>$y</dt>\n\t\t<dd>52</dd>\n\t<dt>$m</dt>\n\t\t<dd>40</dd>\n\t<dt>$p</dt>\n\t\t<dd>43</dd>\n\t<dt>$u</dt>\n\t\t<dd>48</dd>\n\t<dt>$g</dt>\n\t\t<dd>34</dd>\n\t<dt>$v</dt>\n\t\t<dd>49</dd>\n</dl>\n</dd>\n</dl>\n"
          },
          "metadata": {}
        }
      ]
    }
  ],
  "metadata": {
    "kernelspec": {
      "name": "r",
      "display_name": "R",
      "language": "R"
    },
    "language_info": {
      "mimetype": "text/x-r-source",
      "name": "R",
      "pygments_lexer": "r",
      "version": "3.4.1",
      "file_extension": ".r",
      "codemirror_mode": "r"
    }
  },
  "nbformat": 4,
  "nbformat_minor": 2
}