{
  "cells": [
    {
      "metadata": {},
      "cell_type": "markdown",
      "source": "Поиск частичных совпадений."
    },
    {
      "metadata": {
        "trusted": true
      },
      "cell_type": "code",
      "source": "part_search <- function(s, w) {\n    cnt <- 0      # number of appearances\n    values = c()  # result\n    \n    for (i in 1:(nchar(s) - nchar(w) + 1)) {  # + 1 to not omit the end\n        word <- w                             # for changes\n        for (j in 1:(nchar(w))) {\n            if (substring(w, j, j) == '.') {\n                substring(word, j, j) <- substring(substring(s, i, nchar(w)-1+i), j, j)\n            }\n        }\n        if (word %in% substring(s, i, nchar(w)-1+i)) {\n            cnt <- cnt + 1\n            values <- c(values, word)\n        }\n    }\n    values <- c(values, cnt)\n    return(values)\n}",
      "execution_count": 1,
      "outputs": []
    },
    {
      "metadata": {},
      "cell_type": "markdown",
      "source": "Examples:"
    },
    {
      "metadata": {
        "trusted": true
      },
      "cell_type": "code",
      "source": "# 1\ns <- 'tookqwerbooktyuioaslookdfghjkzhookxcvbnmcook'\nw <- '.o.k'\npart_search(s, w)",
      "execution_count": 3,
      "outputs": [
        {
          "output_type": "display_data",
          "data": {
            "text/plain": "[1] \"took\" \"book\" \"look\" \"hook\" \"cook\" \"5\"   ",
            "text/latex": "\\begin{enumerate*}\n\\item 'took'\n\\item 'book'\n\\item 'look'\n\\item 'hook'\n\\item 'cook'\n\\item '5'\n\\end{enumerate*}\n",
            "text/markdown": "1. 'took'\n2. 'book'\n3. 'look'\n4. 'hook'\n5. 'cook'\n6. '5'\n\n\n",
            "text/html": "<ol class=list-inline>\n\t<li>'took'</li>\n\t<li>'book'</li>\n\t<li>'look'</li>\n\t<li>'hook'</li>\n\t<li>'cook'</li>\n\t<li>'5'</li>\n</ol>\n"
          },
          "metadata": {}
        }
      ]
    },
    {
      "metadata": {
        "trusted": true
      },
      "cell_type": "code",
      "source": "# 2\ns1 <- 'areaqwertyartsfgtartejdfnceuarcsfhrytuart'\nw1 <- 'ar..'\npart_search(s1, w1)",
      "execution_count": 4,
      "outputs": [
        {
          "output_type": "display_data",
          "data": {
            "text/plain": "[1] \"area\" \"arts\" \"arte\" \"arcs\" \"4\"   ",
            "text/latex": "\\begin{enumerate*}\n\\item 'area'\n\\item 'arts'\n\\item 'arte'\n\\item 'arcs'\n\\item '4'\n\\end{enumerate*}\n",
            "text/markdown": "1. 'area'\n2. 'arts'\n3. 'arte'\n4. 'arcs'\n5. '4'\n\n\n",
            "text/html": "<ol class=list-inline>\n\t<li>'area'</li>\n\t<li>'arts'</li>\n\t<li>'arte'</li>\n\t<li>'arcs'</li>\n\t<li>'4'</li>\n</ol>\n"
          },
          "metadata": {}
        }
      ]
    },
    {
      "metadata": {
        "trusted": true
      },
      "cell_type": "code",
      "source": "# 3\ns2 <- 'dfrtbananadejdejcasabadjfjdefpajama'\nw2 <- '.a.a.a'\npart_search(s2, w2)",
      "execution_count": 5,
      "outputs": [
        {
          "output_type": "display_data",
          "data": {
            "text/plain": "[1] \"banana\" \"casaba\" \"pajama\" \"3\"     ",
            "text/latex": "\\begin{enumerate*}\n\\item 'banana'\n\\item 'casaba'\n\\item 'pajama'\n\\item '3'\n\\end{enumerate*}\n",
            "text/markdown": "1. 'banana'\n2. 'casaba'\n3. 'pajama'\n4. '3'\n\n\n",
            "text/html": "<ol class=list-inline>\n\t<li>'banana'</li>\n\t<li>'casaba'</li>\n\t<li>'pajama'</li>\n\t<li>'3'</li>\n</ol>\n"
          },
          "metadata": {}
        }
      ]
    },
    {
      "metadata": {},
      "cell_type": "markdown",
      "source": "Tests:"
    },
    {
      "metadata": {
        "trusted": true
      },
      "cell_type": "code",
      "source": "word <- list('1', '2', '3', '4', '5')\nww <- paste(unlist(word), collapse='')  # turns a list into a string\nww  # '12345'\nnchar(ww)  # 5\nsubstring(substring(ww, 2, 3), 2, 2)  # '3'\nsubstring(substring(ww, 2, 3), 2, 2) <- '5'  # change a string (wow)\nww  # '12545'",
      "execution_count": 6,
      "outputs": [
        {
          "output_type": "display_data",
          "data": {
            "text/plain": "[1] \"12345\"",
            "text/latex": "'12345'",
            "text/markdown": "'12345'",
            "text/html": "'12345'"
          },
          "metadata": {}
        },
        {
          "output_type": "display_data",
          "data": {
            "text/plain": "[1] 5",
            "text/latex": "5",
            "text/markdown": "5",
            "text/html": "5"
          },
          "metadata": {}
        },
        {
          "output_type": "display_data",
          "data": {
            "text/plain": "[1] \"3\"",
            "text/latex": "'3'",
            "text/markdown": "'3'",
            "text/html": "'3'"
          },
          "metadata": {}
        },
        {
          "output_type": "display_data",
          "data": {
            "text/plain": "[1] \"12545\"",
            "text/latex": "'12545'",
            "text/markdown": "'12545'",
            "text/html": "'12545'"
          },
          "metadata": {}
        }
      ]
    },
    {
      "metadata": {
        "trusted": true,
        "scrolled": true
      },
      "cell_type": "code",
      "source": "L <- list('a', 'b', '1', '2', '3', 'q')\nN <- list('c', 'd', 'w', '6', 't', 'y')\n\nL_copy <- L\nL_copy[1] <- 'we'\n#L <- paste(unlist(L), collapse='')  # 'ab123q'\nL  # the original does not change!",
      "execution_count": 7,
      "outputs": [
        {
          "output_type": "display_data",
          "data": {
            "text/plain": "[[1]]\n[1] \"a\"\n\n[[2]]\n[1] \"b\"\n\n[[3]]\n[1] \"1\"\n\n[[4]]\n[1] \"2\"\n\n[[5]]\n[1] \"3\"\n\n[[6]]\n[1] \"q\"\n",
            "text/latex": "\\begin{enumerate}\n\\item 'a'\n\\item 'b'\n\\item '1'\n\\item '2'\n\\item '3'\n\\item 'q'\n\\end{enumerate}\n",
            "text/markdown": "1. 'a'\n2. 'b'\n3. '1'\n4. '2'\n5. '3'\n6. 'q'\n\n\n",
            "text/html": "<ol>\n\t<li>'a'</li>\n\t<li>'b'</li>\n\t<li>'1'</li>\n\t<li>'2'</li>\n\t<li>'3'</li>\n\t<li>'q'</li>\n</ol>\n"
          },
          "metadata": {}
        }
      ]
    },
    {
      "metadata": {
        "trusted": true,
        "scrolled": true
      },
      "cell_type": "code",
      "source": "length(L)  # 6\nL[1:4][2]  # 'b'\n'h' %in% L  # FALSE",
      "execution_count": 8,
      "outputs": [
        {
          "output_type": "display_data",
          "data": {
            "text/plain": "[1] 6",
            "text/latex": "6",
            "text/markdown": "6",
            "text/html": "6"
          },
          "metadata": {}
        },
        {
          "output_type": "display_data",
          "data": {
            "text/plain": "[[1]]\n[1] \"b\"\n",
            "text/latex": "\\begin{enumerate}\n\\item 'b'\n\\end{enumerate}\n",
            "text/markdown": "1. 'b'\n\n\n",
            "text/html": "<ol>\n\t<li>'b'</li>\n</ol>\n"
          },
          "metadata": {}
        },
        {
          "output_type": "display_data",
          "data": {
            "text/plain": "[1] FALSE",
            "text/latex": "FALSE",
            "text/markdown": "FALSE",
            "text/html": "FALSE"
          },
          "metadata": {}
        }
      ]
    }
  ],
  "metadata": {
    "kernelspec": {
      "name": "r",
      "display_name": "R",
      "language": "R"
    },
    "language_info": {
      "mimetype": "text/x-r-source",
      "name": "R",
      "pygments_lexer": "r",
      "version": "3.4.1",
      "file_extension": ".r",
      "codemirror_mode": "r"
    }
  },
  "nbformat": 4,
  "nbformat_minor": 2
}